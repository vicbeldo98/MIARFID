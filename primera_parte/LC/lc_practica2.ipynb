{
  "nbformat": 4,
  "nbformat_minor": 0,
  "metadata": {
    "colab": {
      "name": "lc-practica2.ipynb",
      "provenance": [],
      "collapsed_sections": []
    },
    "kernelspec": {
      "name": "python3",
      "display_name": "Python 3"
    },
    "language_info": {
      "name": "python"
    }
  },
  "cells": [
    {
      "cell_type": "code",
      "metadata": {
        "id": "jM4K7Z_mARHr"
      },
      "source": [
        "# Imports\n",
        "import math\n",
        "import nltk\n",
        "from nltk.corpus import cess_esp\n",
        "import matplotlib.pyplot as plt"
      ],
      "execution_count": 1,
      "outputs": []
    },
    {
      "cell_type": "code",
      "metadata": {
        "colab": {
          "base_uri": "https://localhost:8080/"
        },
        "id": "dtagfqT8A0kM",
        "outputId": "bc552ffb-d025-4f16-f88b-2aa64f38acee"
      },
      "source": [
        "nltk.download('cess_esp')\n",
        "nltk.download('punkt')"
      ],
      "execution_count": 2,
      "outputs": [
        {
          "output_type": "stream",
          "name": "stdout",
          "text": [
            "[nltk_data] Downloading package cess_esp to /root/nltk_data...\n",
            "[nltk_data]   Package cess_esp is already up-to-date!\n",
            "[nltk_data] Downloading package punkt to /root/nltk_data...\n",
            "[nltk_data]   Package punkt is already up-to-date!\n"
          ]
        },
        {
          "output_type": "execute_result",
          "data": {
            "text/plain": [
              "True"
            ]
          },
          "metadata": {},
          "execution_count": 2
        }
      ]
    },
    {
      "cell_type": "code",
      "metadata": {
        "id": "QzZmeZq4AIcj"
      },
      "source": [
        "\n",
        "# Carga del corpus                         \n",
        "corpus_sentences=cess_esp.tagged_sents()\n",
        "number_sentences=len(corpus_sentences)"
      ],
      "execution_count": 3,
      "outputs": []
    },
    {
      "cell_type": "code",
      "metadata": {
        "id": "RPXocBEOAfDq"
      },
      "source": [
        "# Preprocesar etiquetas corpus\n",
        "corpus = []\n",
        "for s in (corpus_sentences):\n",
        "    sentence=[]\n",
        "    for x in s:\n",
        "        word, tag = x\n",
        "        if(word=='*0*' and tag.startswith('sn')):\n",
        "            continue\n",
        "        if(len(tag) >= 3):\n",
        "            if(tag.startswith('v') or tag.startswith('F')):\n",
        "                tag = tag[0:3]\n",
        "            else:\n",
        "                tag = tag[0:2]\n",
        "        x = (word, tag)\n",
        "        sentence.append(x)\n",
        "    corpus.append(sentence)"
      ],
      "execution_count": 4,
      "outputs": []
    },
    {
      "cell_type": "code",
      "metadata": {
        "id": "nQfLMU4LHBR4"
      },
      "source": [
        "number_train = round(len(corpus) * 0.9)\n",
        "train = corpus[0 : number_train + 1]\n",
        "test = corpus[number_train + 1 :]"
      ],
      "execution_count": 5,
      "outputs": []
    },
    {
      "cell_type": "code",
      "metadata": {
        "colab": {
          "base_uri": "https://localhost:8080/"
        },
        "id": "x-wbso-A7ZQF",
        "outputId": "1ec2d321-5f89-4747-ef10-161d992dc6bf"
      },
      "source": [
        "# Uso del etiquetador morfosintáctico hmm\n",
        "from nltk.tag import hmm\n",
        "\n",
        "tagger_hmm=hmm.HiddenMarkovModelTagger.train(train)\n",
        "ac = tagger_hmm.evaluate(test)\n",
        "print('Accuracy of the model: '+ str(ac))\n",
        "\n",
        "frase = 'Me gusta mucho viajar por el mundo'\n",
        "frase_tokens = nltk.word_tokenize(frase, language='spanish')\n",
        "tagged_sentence = tagger_hmm.tag(frase_tokens)\n",
        "print(tagged_sentence)"
      ],
      "execution_count": 6,
      "outputs": [
        {
          "output_type": "stream",
          "name": "stdout",
          "text": [
            "Accuracy of the model: 0.8784649776453055\n",
            "[('Me', 'pp'), ('gusta', 'vmi'), ('mucho', 'rg'), ('viajar', 'vmn'), ('por', 'sp'), ('el', 'da'), ('mundo', 'nc')]\n"
          ]
        }
      ]
    },
    {
      "cell_type": "code",
      "metadata": {
        "colab": {
          "base_uri": "https://localhost:8080/"
        },
        "id": "SBo7MIBC7Zc7",
        "outputId": "a66682b1-4fd9-49bd-85ff-dd7f7f9a5313"
      },
      "source": [
        "# Uso del etiquetador morfosintáctico tnt\n",
        "from nltk.tag import tnt\n",
        "\n",
        "tagger_tnt = tnt.TnT()\n",
        "tagger_tnt.train(train)\n",
        "ac = tagger_tnt.evaluate(test)\n",
        "print('Accuracy of the model: '+ str(ac))\n",
        "frase = 'Me gusta mucho viajar por el mundo'\n",
        "frase_tokens = nltk.word_tokenize(frase, language='spanish')\n",
        "tagged_sentence = tagger_tnt.tag(frase_tokens)\n",
        "print(tagged_sentence)"
      ],
      "execution_count": 7,
      "outputs": [
        {
          "output_type": "stream",
          "name": "stdout",
          "text": [
            "Accuracy of the model: 0.825558867362146\n",
            "[('Me', 'pp'), ('gusta', 'vmi'), ('mucho', 'rg'), ('viajar', 'vmn'), ('por', 'sp'), ('el', 'da'), ('mundo', 'nc')]\n"
          ]
        }
      ]
    },
    {
      "cell_type": "markdown",
      "metadata": {
        "id": "ALp_BcnCBLsa"
      },
      "source": [
        "# **Hidden Markov Models Approach(HMM)**"
      ]
    },
    {
      "cell_type": "code",
      "metadata": {
        "colab": {
          "base_uri": "https://localhost:8080/",
          "height": 662
        },
        "id": "kb0Q4ebfBB7c",
        "outputId": "f5c9eea7-774e-4a81-d1f8-c930d9abf1aa"
      },
      "source": [
        "# Partir el corpus en train y test\n",
        "from nltk.tag import hmm\n",
        "from sklearn.model_selection import KFold\n",
        "import numpy as np\n",
        "\n",
        "c = np.array(corpus, dtype=object)\n",
        "\n",
        "# Ten-fold cross-validation\n",
        "\n",
        "# Resultados sin shuffle \n",
        "kf = KFold(n_splits=10, shuffle=False)\n",
        "\n",
        "non_shuffled_results = []\n",
        "non_shuffled_conf = []\n",
        "\n",
        "for train_index, test_index in kf.split(c):\n",
        "    number_test_sentences = len(test_index)\n",
        "    train = c[train_index]\n",
        "    test = c[test_index]\n",
        "    tagger_hmm=hmm.HiddenMarkovModelTagger.train(train)\n",
        "    ac = tagger_hmm.evaluate(test)\n",
        "    non_shuffled_results.append(ac)\n",
        "    ic = 1.96*math.sqrt((ac* (1-ac))/number_test_sentences)\n",
        "    non_shuffled_conf.append(ic)\n",
        "\n",
        "print('Original corpus accuracy: ' + str(non_shuffled_results))\n",
        "print('Original corpus deviation: ' + str(non_shuffled_conf))\n",
        "\n",
        "# Resultados con shuffle \n",
        "\n",
        "kf = KFold(n_splits=10, shuffle=True)\n",
        "\n",
        "shuffled_results =[]\n",
        "shuffled_conf = []\n",
        "\n",
        "for train_index, test_index in kf.split(c):\n",
        "    number_test_sentences = len(test_index)\n",
        "    train = c[train_index]\n",
        "    test = c[test_index]\n",
        "    tagger_hmm=hmm.HiddenMarkovModelTagger.train(train)\n",
        "    ac = tagger_hmm.evaluate(test)\n",
        "    shuffled_results.append(ac)\n",
        "    ic = 1.96*math.sqrt((ac* (1-ac))/number_test_sentences)\n",
        "    shuffled_conf.append(ic)\n",
        "\n",
        "print('Shuffled corpus accuracy: ' + str(shuffled_results))\n",
        "print('Shuffled corpus deviation: ' + str(shuffled_conf))\n",
        "\n",
        "# Print graphic for original results\n",
        "x=[i for i in range(10)]\n",
        "y=non_shuffled_results\n",
        "plt.axis([-1, 10, 0.84, 0.95])\n",
        "plt.ylabel('Accuracy')\n",
        "plt.xlabel('Fold')\n",
        "plt.title('Ten-fold cross validation original corpus')\n",
        "plt.plot(x,y,'ro')\n",
        "plt.errorbar(x,y,yerr=non_shuffled_conf,linestyle='None')\n",
        "plt.show()\n",
        "\n",
        "# Print graphic for shuffled results\n",
        "x=[i for i in range(10)]\n",
        "y=shuffled_results\n",
        "plt.axis([-1, 10, 0.84, 0.95])\n",
        "plt.ylabel('Accuracy')\n",
        "plt.xlabel('Fold')\n",
        "plt.title('Ten-fold cross validation shuffled corpus')\n",
        "plt.plot(x,y,'ro')\n",
        "plt.errorbar(x,y,yerr=shuffled_conf,linestyle='None')\n",
        "plt.show()"
      ],
      "execution_count": 8,
      "outputs": [
        {
          "output_type": "stream",
          "name": "stdout",
          "text": [
            "Original corpus accuracy: [0.9283174828904097, 0.9237111533931321, 0.9228301472203911, 0.9251465103889185, 0.9228631913204551, 0.8781806196440343, 0.887891425743974, 0.8913107511045656, 0.8911650954798163, 0.8784427571832664]\n",
            "Original corpus deviation: [0.020589808319485307, 0.0211882961050311, 0.02130012430832227, 0.021004323505633294, 0.021295944733093083, 0.026106432740275777, 0.02518237930077728, 0.024843071059600663, 0.024857680382111613, 0.026082220904978973]\n",
            "Shuffled corpus accuracy: [0.9230154501864678, 0.9271860439917651, 0.9253762110904968, 0.9270658358168518, 0.9275133111919448, 0.923371028540657, 0.9294629746171597, 0.9264728662157278, 0.9219396480388371, 0.92490440989039]\n",
            "Shuffled corpus deviation: [0.02127667147482957, 0.020739017201654584, 0.020974674440455466, 0.020754783566048533, 0.020696009814193807, 0.021231566363307017, 0.020437230020861542, 0.020832317501876856, 0.021412329308895608, 0.021035510567581447]\n"
          ]
        },
        {
          "output_type": "display_data",
          "data": {
            "image/png": "[encoded data removed]",
            "text/plain": [
              "<Figure size 432x288 with 1 Axes>"
            ]
          },
          "metadata": {
            "needs_background": "light"
          }
        },
        {
          "output_type": "display_data",
          "data": {
            "image/png": "[encoded data removed]",
            "text/plain": [
              "<Figure size 432x288 with 1 Axes>"
            ]
          },
          "metadata": {
            "needs_background": "light"
          }
        }
      ]
    },
    {
      "cell_type": "markdown",
      "metadata": {
        "id": "6Wh7dRImECQy"
      },
      "source": [
        "#**Trigrams'n'Tags (TNT)**"
      ]
    },
    {
      "cell_type": "code",
      "metadata": {
        "colab": {
          "base_uri": "https://localhost:8080/",
          "height": 662
        },
        "id": "hlIjrOXhF3bW",
        "outputId": "6963e6c9-352b-417b-cea6-bd07be87b9e1"
      },
      "source": [
        "# Partir el corpus en train y test\n",
        "from nltk.tag import tnt\n",
        "from sklearn.model_selection import KFold\n",
        "import numpy as np\n",
        "\n",
        "c = np.array(corpus, dtype=object)\n",
        "\n",
        "# Ten-fold cross-validation\n",
        "# Resultados sin shuffle \n",
        "kf = KFold(n_splits=10, shuffle=False)\n",
        "\n",
        "non_shuffled_results = []\n",
        "non_shuffled_conf = []\n",
        "\n",
        "for train_index, test_index in kf.split(c):\n",
        "    number_test_sentences = len(test_index)\n",
        "    train = c[train_index]\n",
        "    test = c[test_index]\n",
        "    tagger_tnt = tnt.TnT()\n",
        "    tagger_tnt.train(train)\n",
        "    ac = tagger_tnt.evaluate(test)\n",
        "    non_shuffled_results.append(ac)\n",
        "    ic = 1.96 * math.sqrt( ac * (1-ac) / number_test_sentences)\n",
        "    non_shuffled_conf.append(ic)\n",
        "\n",
        "print('Original corpus accuracy: ' + str(non_shuffled_results))\n",
        "print('Original corpus deviation: ' + str(non_shuffled_conf))\n",
        "\n",
        "# Resultados con shuffle \n",
        "kf = KFold(n_splits=10, shuffle=True)\n",
        "\n",
        "shuffled_results =[]\n",
        "shuffled_conf = []\n",
        "for train_index, test_index in kf.split(c):\n",
        "    number_test_sentences = len(test_index)\n",
        "    train = c[train_index]\n",
        "    test = c[test_index]\n",
        "    tagger_tnt = tnt.TnT()\n",
        "    tagger_tnt.train(train)\n",
        "    ac = tagger_tnt.evaluate(test)\n",
        "    shuffled_results.append(ac)\n",
        "    ic = 1.96 * math.sqrt(ac * (1-ac) / number_test_sentences)\n",
        "    shuffled_conf.append(ic)\n",
        "\n",
        "print('Shuffled corpus accuracy: ' + str(shuffled_results))\n",
        "print('Shuffled corpus deviation: ' + str(shuffled_conf))\n",
        "\n",
        "# Print graphic for original results\n",
        "x=[i for i in range(10)]\n",
        "y=non_shuffled_results\n",
        "plt.axis([-1, 10, 0.8, 0.95])\n",
        "plt.ylabel('Accuracy')\n",
        "plt.xlabel('Fold')\n",
        "plt.title('Ten-fold cross validation original corpus')\n",
        "plt.plot(x,y,'ro')\n",
        "plt.errorbar(x,y,yerr=non_shuffled_conf,linestyle='None')\n",
        "plt.show()\n",
        "\n",
        "# Print graphic for shuffled results\n",
        "x=[i for i in range(10)]\n",
        "y=shuffled_results\n",
        "plt.axis([-1, 10, 0.84, 0.95])\n",
        "plt.ylabel('Accuracy')\n",
        "plt.xlabel('Fold')\n",
        "plt.title('Ten-fold cross validation shuffled corpus')\n",
        "plt.plot(x,y,'ro')\n",
        "plt.errorbar(x,y,yerr=shuffled_conf,linestyle='None')\n",
        "plt.show()"
      ],
      "execution_count": 9,
      "outputs": [
        {
          "output_type": "stream",
          "name": "stdout",
          "text": [
            "Original corpus accuracy: [0.8963203270820371, 0.8886019751744133, 0.8864864864864865, 0.88949564908542, 0.8928287906853665, 0.8389584706657878, 0.8583445253410618, 0.8506627393225331, 0.8591370558375635, 0.8255173440524044]\n",
            "Original corpus deviation: [0.02433189016196915, 0.025112491206031224, 0.025319624362368197, 0.02502413177278914, 0.024689970674732113, 0.02933841111855451, 0.027832032178867174, 0.028448554921733562, 0.02776687604508008, 0.030292606824607833]\n",
            "Shuffled corpus accuracy: [0.9027800625102813, 0.8981251650382889, 0.9039718194813151, 0.8977773062437006, 0.900850887205562, 0.9011120151885001, 0.9003003325109943, 0.9032709274800946, 0.9022802972072764, 0.9025301590690723]\n",
            "Shuffled corpus deviation: [0.023646456184858677, 0.024143448772825392, 0.023516582626755492, 0.02417994938973096, 0.023854388431810213, 0.02382640770280697, 0.02391321538326534, 0.023593096456475962, 0.02370059346748244, 0.0236735509553767]\n"
          ]
        },
        {
          "output_type": "display_data",
          "data": {
            "image/png": "[encoded data removed]",
            "text/plain": [
              "<Figure size 432x288 with 1 Axes>"
            ]
          },
          "metadata": {
            "needs_background": "light"
          }
        },
        {
          "output_type": "display_data",
          "data": {
            "image/png": "[encoded data removed]",
            "text/plain": [
              "<Figure size 432x288 with 1 Axes>"
            ]
          },
          "metadata": {
            "needs_background": "light"
          }
        }
      ]
    }
  ]
}