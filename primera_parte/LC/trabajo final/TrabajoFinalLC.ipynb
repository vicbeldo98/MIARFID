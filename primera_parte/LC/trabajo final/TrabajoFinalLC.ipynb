{
  "nbformat": 4,
  "nbformat_minor": 0,
  "metadata": {
    "colab": {
      "name": "TrabajoFinalLC.ipynb",
      "provenance": [],
      "collapsed_sections": []
    },
    "kernelspec": {
      "name": "python3",
      "display_name": "Python 3"
    },
    "language_info": {
      "name": "python"
    }
  },
  "cells": [
    {
      "cell_type": "code",
      "metadata": {
        "colab": {
          "base_uri": "https://localhost:8080/"
        },
        "id": "enjEiNmr69MM",
        "outputId": "19bb27c8-a138-4e73-cab6-3ed2f6549e6f"
      },
      "source": [
        "## Import things\n",
        "\n",
        "import nltk\n",
        "nltk.download('cess_esp')\n"
      ],
      "execution_count": null,
      "outputs": [
        {
          "output_type": "stream",
          "name": "stdout",
          "text": [
            "[nltk_data] Downloading package cess_esp to /root/nltk_data...\n",
            "[nltk_data]   Package cess_esp is already up-to-date!\n"
          ]
        },
        {
          "output_type": "execute_result",
          "data": {
            "text/plain": [
              "True"
            ]
          },
          "metadata": {},
          "execution_count": 7
        }
      ]
    },
    {
      "cell_type": "code",
      "metadata": {
        "id": "GW8jFLlO2JJJ"
      },
      "source": [
        "import matplotlib.pyplot as plt\n",
        "\n",
        "# DEFINIENDO FUNCIONES IMPORTANTES \n",
        "def print_plot(medias, desviaciones, n_particiones):\n",
        "    x = [i for i in range(n_particiones)]\n",
        "    y = medias\n",
        "    plt.axis([-1, 10, 0.84, 0.95])\n",
        "    plt.ylabel('Accuracy')\n",
        "    plt.xlabel('Fold')\n",
        "    plt.title(str(n_particiones) + '-fold cross validation accuracy and confidence intervals')\n",
        "    # plt.title(f'{n_particiones}-fold cross validation accuracy and confidence intervals')\n",
        "    plt.plot(x,y,'ro')\n",
        "    plt.errorbar(x,y,yerr=desviaciones,linestyle='None')\n",
        "    plt.show()"
      ],
      "execution_count": null,
      "outputs": []
    },
    {
      "cell_type": "code",
      "metadata": {
        "id": "oPImDLkbHwXG"
      },
      "source": [
        "def reduce_corpus_categories(c):\n",
        "  processed_sentences = list()\n",
        "  for sentence in c:\n",
        "      processed_sentence = list()\n",
        "      for elem in sentence:\n",
        "          if '*0*' not in elem[0]:\n",
        "              new_c = elem[1]\n",
        "              if len(new_c) > 2:\n",
        "                  if new_c.startswith(\"v\") or new_c.startswith(\"F\"):\n",
        "                      new_c = new_c[0:3]\n",
        "                  else:\n",
        "                      new_c = new_c[0:2]\n",
        "              processed_sentence.append( (elem[0], new_c) )\n",
        "      processed_sentences.append( processed_sentence )\n",
        "\n",
        "  return processed_sentences"
      ],
      "execution_count": null,
      "outputs": []
    },
    {
      "cell_type": "markdown",
      "metadata": {
        "id": "tjKDEYoUvWCq"
      },
      "source": [
        "#### **Tarea 1: Evaluación del etiquetador ‘hmm’ sobre el corpus ‘cess-esp’ utilizando el juego de categorías completo y reducido.**\n",
        "Utilizando el etiquetador hmm basado en modelos de Markov, se realizará una validación cruzada sobre 10 particiones del corpus. Barajar el corpus antes de realizar las particiones. Presentar los resultados en forma de tabla y gráficamente, incluyendo los intervalos de confianza."
      ]
    },
    {
      "cell_type": "code",
      "metadata": {
        "colab": {
          "base_uri": "https://localhost:8080/",
          "height": 382
        },
        "id": "tEFXAZSmvN5P",
        "outputId": "303f84aa-b527-4762-a177-dc4da1eadb6f"
      },
      "source": [
        "## Normal corpus results\n",
        "\n",
        "import nltk\n",
        "nltk.download('cess_esp')\n",
        "from nltk.corpus import cess_esp\n",
        "import math\n",
        "\n",
        "# Carga del corpus                         \n",
        "corpus_sentences = cess_esp.tagged_sents()\n",
        "\n",
        "from nltk.tag import hmm\n",
        "from sklearn.model_selection import KFold\n",
        "import numpy as np\n",
        "\n",
        "corpus = np.array(corpus_sentences, dtype=object)\n",
        "n_particiones = 10\n",
        "# Ten-fold cross-validation barajando el corpus\n",
        "kf = KFold(n_splits=n_particiones, shuffle=True)\n",
        "results =[]\n",
        "deviation = []\n",
        "for train_index, test_index in kf.split(corpus):\n",
        "    number_test_samples = sum([len(corpus_sentences[i]) for i in test_index])\n",
        "    train = corpus[train_index]\n",
        "    test = corpus[test_index]\n",
        "    tagger_hmm = hmm.HiddenMarkovModelTagger.train(train)\n",
        "    accuracy = tagger_hmm.evaluate(test)\n",
        "    results.append(accuracy)\n",
        "    ic = 1.96 * math.sqrt(accuracy * (1 - accuracy) / number_test_samples)\n",
        "    deviation.append(ic)\n",
        "\n",
        "print('Corpus accuracy: ' + str(results))\n",
        "print('Corpus deviation: ' + str(deviation))\n",
        "\n",
        "print_plot(results, deviation, n_particiones)\n"
      ],
      "execution_count": null,
      "outputs": [
        {
          "output_type": "stream",
          "name": "stdout",
          "text": [
            "[nltk_data] Downloading package cess_esp to /root/nltk_data...\n",
            "[nltk_data]   Package cess_esp is already up-to-date!\n",
            "Corpus accuracy: [0.8955576559546313, 0.893134682967876, 0.8944229360678037, 0.8975737020610488, 0.8972183659828269, 0.8962664078860003, 0.9024377374419587, 0.9001975257303254, 0.8969235822202759, 0.8939155187312561]\n",
            "Corpus deviation: [0.004343722431502256, 0.0042601511289263256, 0.004356488123118695, 0.004292817813041895, 0.004267900339462142, 0.004271093573990628, 0.004224527127288341, 0.004235607150106918, 0.004409282755090354, 0.0043032337989344]\n"
          ]
        },
        {
          "output_type": "display_data",
          "data": {
            "image/png": "[encoded data removed]",
            "text/plain": [
              "<Figure size 432x288 with 1 Axes>"
            ]
          },
          "metadata": {
            "needs_background": "light"
          }
        }
      ]
    },
    {
      "cell_type": "code",
      "metadata": {
        "colab": {
          "base_uri": "https://localhost:8080/",
          "height": 382
        },
        "id": "3G-2gB8EUVYi",
        "outputId": "96281f51-39fb-4188-9b1d-cdacb6a411ee"
      },
      "source": [
        "## Reduced categories corpus results\n",
        "\n",
        "import nltk\n",
        "nltk.download('cess_esp')\n",
        "from nltk.corpus import cess_esp\n",
        "import math\n",
        "\n",
        "# Carga del corpus                         \n",
        "reduced_categories_corpus_sentences = reduce_corpus_categories( cess_esp.tagged_sents() )\n",
        "\n",
        "from nltk.tag import hmm\n",
        "from sklearn.model_selection import KFold\n",
        "import numpy as np\n",
        "\n",
        "reduced_categories_corpus = np.array(reduced_categories_corpus_sentences, dtype=object)\n",
        "n_particiones = 10\n",
        "# Ten-fold cross-validation barajando el corpus\n",
        "kf = KFold(n_splits=n_particiones, shuffle=True)\n",
        "results =[]\n",
        "deviation = []\n",
        "for train_index, test_index in kf.split(reduced_categories_corpus):\n",
        "    number_test_samples = sum([len(corpus_sentences[i]) for i in test_index])\n",
        "    train = reduced_categories_corpus[train_index]\n",
        "    test = reduced_categories_corpus[test_index]\n",
        "    tagger_hmm = hmm.HiddenMarkovModelTagger.train(train)\n",
        "    accuracy = tagger_hmm.evaluate(test)\n",
        "    results.append(accuracy)\n",
        "    ic = 1.96 * math.sqrt(accuracy * (1 - accuracy) / number_test_samples)\n",
        "    deviation.append(ic)\n",
        "\n",
        "print('Corpus with reduced categories accuracy: ' + str(results))\n",
        "print('Corpus with reduced categories deviation: ' + str(deviation))\n",
        "\n",
        "print_plot(results, deviation, n_particiones)"
      ],
      "execution_count": null,
      "outputs": [
        {
          "output_type": "stream",
          "name": "stdout",
          "text": [
            "[nltk_data] Downloading package cess_esp to /root/nltk_data...\n",
            "[nltk_data]   Package cess_esp is already up-to-date!\n",
            "Corpus with reduced categories accuracy: [0.9309729871492264, 0.9238333073201186, 0.9250876469375129, 0.9244698466962235, 0.924948841325148, 0.9226828624240824, 0.9245879548046024, 0.92801243567753, 0.9299191374663073, 0.9246452022876509]\n",
            "Corpus with reduced categories deviation: [0.00356220192105162, 0.0037123793039557556, 0.003668783349660743, 0.0037476352504308415, 0.0038031941870797837, 0.00376563271864596, 0.0036848517873400493, 0.003671177886608804, 0.0036373357285491366, 0.003725830096682174]\n"
          ]
        },
        {
          "output_type": "display_data",
          "data": {
            "image/png": "[encoded data removed]",
            "text/plain": [
              "<Figure size 432x288 with 1 Axes>"
            ]
          },
          "metadata": {
            "needs_background": "light"
          }
        }
      ]
    },
    {
      "cell_type": "markdown",
      "metadata": {
        "id": "GFDduQ3Fvto8"
      },
      "source": [
        "#### **Tarea 2: Evaluación de las prestaciones del etiquetador respecto a la cantidad de datos de aprendizaje.**\n",
        "Se trata de estudiar cómo varían las prestaciones del etiquetador hmm cuando varía el tamaño del corpus de aprendizaje. Para este experimento se dividirá el corpus de entrenamiento en 10 partes de tamaño similar. La partición 10 se tomará como test, y las 9 particiones restantes se tomarán como entrenamiento. En cada ejecución, se irá incrementando sucesivamente el tamaño del corpus\n",
        "de entrenamiento, manteniendo fija la partición de test.\n",
        "\n",
        "Importante: Para esta tarea no es necesario realizar la validación cruzada. "
      ]
    },
    {
      "cell_type": "code",
      "metadata": {
        "id": "Tkgy_Olsv2W-",
        "colab": {
          "base_uri": "https://localhost:8080/",
          "height": 349
        },
        "outputId": "aedd5df3-22de-434f-b112-d08a5d2bd41a"
      },
      "source": [
        "import numpy as np\n",
        "from random import shuffle\n",
        "from nltk.corpus import cess_esp\n",
        "import math\n",
        "import matplotlib.pyplot as plt\n",
        "\n",
        "\n",
        "# Carga del corpus                         \n",
        "corpus_sentences = cess_esp.tagged_sents()\n",
        "\n",
        "from nltk.tag import hmm\n",
        "import numpy as np\n",
        "\n",
        "corpus = np.array(corpus_sentences, dtype=object)\n",
        "shuffle(corpus)\n",
        "n_particiones = 10\n",
        "\n",
        "n_test_samples = int(len(corpus)*0.1)\n",
        "test = corpus[len(corpus)-number_test_samples:]\n",
        "number_test_samples = sum([len(sentence) for sentence in test])\n",
        "\n",
        "\n",
        "\n",
        "results = []\n",
        "deviation = []\n",
        "for i in range(1, n_particiones):\n",
        "  train = corpus[:n_test_samples*i + 1]\n",
        "  tagger_hmm = hmm.HiddenMarkovModelTagger.train(train)\n",
        "  accuracy = tagger_hmm.evaluate(test)\n",
        "  results.append(accuracy)\n",
        "  ic = 1.96 * math.sqrt(accuracy * (1 - accuracy) / number_test_samples)\n",
        "  deviation.append(ic)\n",
        "\n",
        "print(f'Corpus accuracy varying train data: {results}')\n",
        "print(f'Corpus deviation varying train data: {deviation}')\n",
        "\n",
        "x = [i*10 for i in range(1, n_particiones)]\n",
        "y = results\n",
        "plt.axis([5, 95, 0.75, 0.95])\n",
        "plt.ylabel('Accuracy')\n",
        "plt.xlabel('Train data percentage')\n",
        "plt.title(f'Accuracy and confidence intervals for different traning data sizes')\n",
        "plt.plot(x,y,'ro')\n",
        "plt.errorbar(x,y,yerr=deviation,linestyle='None')\n",
        "plt.show()"
      ],
      "execution_count": null,
      "outputs": [
        {
          "output_type": "stream",
          "name": "stdout",
          "text": [
            "Corpus accuracy varying train data: [0.8015258063679062, 0.8487323870565949, 0.8764719620105353, 0.8962607364351143, 0.9108596932817812, 0.9227339959000441, 0.9320185795469289, 0.9400264680696474, 0.9468355087318681]\n",
            "Corpus deviation varying train data: [0.0017809137853070883, 0.0015998913190505679, 0.001469210093597228, 0.0013615101508542191, 0.001272315804477063, 0.0011922425156152988, 0.0011239306638191372, 0.0010601857721908225, 0.001001798131366402]\n"
          ]
        },
        {
          "output_type": "display_data",
          "data": {
            "image/png": "[encoded data removed]",
            "text/plain": [
              "<Figure size 432x288 with 1 Axes>"
            ]
          },
          "metadata": {
            "needs_background": "light"
          }
        }
      ]
    },
    {
      "cell_type": "markdown",
      "metadata": {
        "id": "z8VhoKwOwCXH"
      },
      "source": [
        "#### **Tarea 3: Evaluación del método de suavizado para palabras desconocidas para el etiquetador tnt.**\n",
        "El etiquetador tnt por defecto no incorpora un método de suavizado para las palabras desconocidas. Utiliza un método basado en los sufijos de las palabras para construir un modelo para las palabras desconocidas (Affix Tagger). En base al sufijo de la palabra desconocida le asigna una categoría morfosintáctica. Este método funciona razonablemente bien para el inglés. \n",
        "\n",
        "En concreto, se trata de estudiar diferentes longitudes del sufijo (número de letras que se tienen en cuenta) y estudiar cómo varían las prestaciones del etiquetador. Una vez se haya decidido el sufijo que mejores prestaciones  proporciona, incorporarlo como modelo de suavizado al etiquetador tnt y comprobar si aumenta sus prestaciones."
      ]
    },
    {
      "cell_type": "code",
      "metadata": {
        "id": "GOADks09wXcU",
        "colab": {
          "base_uri": "https://localhost:8080/",
          "height": 349
        },
        "outputId": "aa16e8d3-0d7e-4b56-f25a-43916cf05d88"
      },
      "source": [
        "## TnT results without smoothing\n",
        "\n",
        "from nltk.corpus import cess_esp\n",
        "import math\n",
        "\n",
        "# Carga del corpus                         \n",
        "corpus_sentences = cess_esp.tagged_sents()\n",
        "\n",
        "from nltk.tag import tnt\n",
        "from sklearn.model_selection import KFold\n",
        "import numpy as np\n",
        "\n",
        "corpus = np.array(corpus_sentences, dtype=object)\n",
        "n_particiones = 10\n",
        "# Ten-fold cross-validation barajando el corpus\n",
        "kf = KFold(n_splits=n_particiones, shuffle=True)\n",
        "results =[]\n",
        "deviation = []\n",
        "for train_index, test_index in kf.split(corpus):\n",
        "    number_test_samples = sum([len(corpus_sentences[i]) for i in test_index])\n",
        "    train = corpus[train_index]\n",
        "    test = corpus[test_index]\n",
        "    tagger_tnt = tnt.TnT()\n",
        "    tagger_tnt.train(train)\n",
        "    accuracy = tagger_tnt.evaluate(test)\n",
        "    results.append(accuracy)\n",
        "    ic = 1.96 * math.sqrt(accuracy * (1 - accuracy) / number_test_samples)\n",
        "    deviation.append(ic)\n",
        "\n",
        "print('Corpus accuracy: ' + str(results))\n",
        "print('Corpus deviation: ' + str(deviation))\n",
        "\n",
        "\n",
        "print_plot(results, deviation, n_particiones)"
      ],
      "execution_count": null,
      "outputs": [
        {
          "output_type": "stream",
          "name": "stdout",
          "text": [
            "Corpus accuracy: [0.8946576373212942, 0.8898392415498764, 0.8935257006929362, 0.8966450790954453, 0.8956638836520334, 0.8897170752191486, 0.8995867974311744, 0.8982827617648549, 0.8998262883613202, 0.8904138851802403]\n",
            "Corpus deviation: [0.004261651338240336, 0.004404888455462955, 0.004347366086382897, 0.0043472492300875324, 0.004397425184069123, 0.004448128073908137, 0.004156382210839876, 0.004216725301817521, 0.004269428857711518, 0.004474235971711836]\n"
          ]
        },
        {
          "output_type": "display_data",
          "data": {
            "image/png": "[encoded data removed]",
            "text/plain": [
              "<Figure size 432x288 with 1 Axes>"
            ]
          },
          "metadata": {
            "needs_background": "light"
          }
        }
      ]
    },
    {
      "cell_type": "code",
      "metadata": {
        "id": "HCy9p_qQa2nw",
        "colab": {
          "base_uri": "https://localhost:8080/",
          "height": 329
        },
        "outputId": "922ed10c-cf59-4e54-fc9a-28a2ae920c7c"
      },
      "source": [
        "## Best AffixTager suffix length\n",
        "\n",
        "from nltk.corpus import cess_esp\n",
        "import math\n",
        "\n",
        "# Carga del corpus                         \n",
        "corpus = cess_esp.tagged_sents()\n",
        "\n",
        "from nltk.tag import AffixTagger\n",
        "import numpy as np\n",
        "\n",
        "test_finish_index = int(len(corpus)*0.1)\n",
        "test = corpus[len(corpus)-test_finish_index:]\n",
        "train = corpus[:len(corpus)-test_finish_index+1]\n",
        "\n",
        "results = []\n",
        "for suffix_size in range(1, 8):\n",
        "  suffix_tagger = AffixTagger( train, affix_length=-suffix_size )\n",
        "  accuracy = suffix_tagger.evaluate(test)\n",
        "  results.append(accuracy)\n",
        "\n",
        "print(results)\n",
        "best_suffix_position = np.argmax(results)\n",
        "print(f\"Best suffix length is {best_suffix_position+1}\")\n",
        "\n",
        "x = [i for i in range(1, 8)]\n",
        "y = results\n",
        "plt.axis([0, 10, 0, 0.5])\n",
        "plt.ylabel('Accuracy')\n",
        "plt.xlabel('Suffix length')\n",
        "plt.title(f'Accuracy for different suffix lengths')\n",
        "plt.plot(x,y,'ro')\n",
        "plt.show()"
      ],
      "execution_count": null,
      "outputs": [
        {
          "output_type": "stream",
          "name": "stdout",
          "text": [
            "[0.21801659988551803, 0.22352604464796794, 0.24856897538637665, 0.2025615340583858, 0.15011448196908986, 0.09294504865483687, 0.0503005151688609]\n",
            "Best suffix length is 3\n"
          ]
        },
        {
          "output_type": "display_data",
          "data": {
            "image/png": "[encoded data removed]",
            "text/plain": [
              "<Figure size 432x288 with 1 Axes>"
            ]
          },
          "metadata": {
            "needs_background": "light"
          }
        }
      ]
    },
    {
      "cell_type": "code",
      "metadata": {
        "colab": {
          "base_uri": "https://localhost:8080/",
          "height": 349
        },
        "id": "18Awz5ivvawL",
        "outputId": "8832885b-467c-4a65-d279-2743c542e5b6"
      },
      "source": [
        "## TnT results suffix tagger of length 3 as smoothing method\n",
        "\n",
        "from nltk.corpus import cess_esp\n",
        "import math\n",
        "\n",
        "# Carga del corpus                         \n",
        "corpus_sentences = cess_esp.tagged_sents()\n",
        "\n",
        "from nltk.tag import tnt, AffixTagger\n",
        "from sklearn.model_selection import KFold\n",
        "import numpy as np\n",
        "\n",
        "corpus = np.array(corpus_sentences, dtype=object)\n",
        "n_particiones = 10\n",
        "best_suffix_length = 3\n",
        "# Ten-fold cross-validation barajando el corpus\n",
        "kf = KFold(n_splits=n_particiones, shuffle=True)\n",
        "suffix_tagger = AffixTagger(corpus_sentences, affix_length=-best_suffix_length)\n",
        "results =[]\n",
        "deviation = []\n",
        "for train_index, test_index in kf.split(corpus):\n",
        "    number_test_samples = sum([len(corpus_sentences[i]) for i in test_index])\n",
        "    train = corpus[train_index]\n",
        "    test = corpus[test_index]\n",
        "    tagger_tnt = tnt.TnT(unk=suffix_tagger, Trained=True)\n",
        "    tagger_tnt.train(train)\n",
        "    accuracy = tagger_tnt.evaluate(test)\n",
        "    results.append(accuracy)\n",
        "    ic = 1.96 * math.sqrt(accuracy * (1 - accuracy) / number_test_samples)\n",
        "    deviation.append(ic)\n",
        "\n",
        "print('Corpus accuracy: ' + str(results))\n",
        "print('Corpus deviation: ' + str(deviation))\n",
        "\n",
        "print_plot(results, deviation, n_particiones)"
      ],
      "execution_count": null,
      "outputs": [
        {
          "output_type": "stream",
          "name": "stdout",
          "text": [
            "Corpus accuracy: [0.9421017574422299, 0.939599399616997, 0.9412399753238742, 0.9368050039714059, 0.9395316133917464, 0.9416373100583627, 0.9418161491945729, 0.9406811277514256, 0.9358492535755298, 0.9339706420101342]\n",
            "Corpus deviation: [0.0032766581775450655, 0.0033591799091256267, 0.0033049516288337242, 0.003360076469989643, 0.003435731760458014, 0.0033317446677414006, 0.003270686026137768, 0.0033800458426325656, 0.0034696430123843727, 0.0035179221258293107]\n"
          ]
        },
        {
          "output_type": "display_data",
          "data": {
            "image/png": "[encoded data removed]",
            "text/plain": [
              "<Figure size 432x288 with 1 Axes>"
            ]
          },
          "metadata": {
            "needs_background": "light"
          }
        }
      ]
    },
    {
      "cell_type": "markdown",
      "metadata": {
        "id": "Vmi3-uf6wY9e"
      },
      "source": [
        "#### **Tarea 4: Evaluación del resto de etiquetadores.**\n",
        "Se deberán utilizar otros paradigmas de etiquetado. Como mínimo el etiquetador de Brill y algún otro como, CRF, perceptron. Se deberá realizar una comparativa de prestaciones respecto a los etiquetadores tnt y hmm, utilizando el juego de categorías reducido.\n",
        "Cuando se utilice el etiquetador de Brill, probar con diferentes etiquetados iniciales, por ejemplo probar con Unigram Tagger y con hmm tagger.\n",
        "La comparación puede ser sólo de una partición, si el coste temporal de la validación cruzada requiere mucho tiempo."
      ]
    },
    {
      "cell_type": "code",
      "metadata": {
        "id": "FFKfefxrwdka",
        "colab": {
          "base_uri": "https://localhost:8080/",
          "height": 382
        },
        "outputId": "93c302c2-d05d-4b1f-9ab9-dedf8dba7159"
      },
      "source": [
        "# Brill Tagger with unigrams\n",
        "'''\n",
        "1) The input text is first tokenized, or broken into words.\n",
        "\n",
        "2) A dictionary and some morphological rules then provide an initial tag for each word token. For example, a simple lookup would reveal that \"dog\" \n",
        "may be a noun or a verb (the most frequent tag is simply chosen), while an unknown word will be assigned some tag(s) based on capitalization, \n",
        "various prefix or suffix strings, etc. (such morphological analyses, which Brill calls Lexical Rules, may vary between implementations).\n",
        "\n",
        "3) After all word tokens have (provisional) tags, contextual rules apply iteratively, to correct the tags by examining small amounts of context. \n",
        "This is where the Brill method differs from other part of speech tagging methods such as those using Hidden Markov Models. Rules are reapplied repeatedly, \n",
        "until a threshold is reached, or no more rules can apply.\n",
        "\n",
        "  Brill rules are of the general form:\n",
        "\n",
        "    tag1 → tag2 IF Condition\n",
        "  where the Condition tests the preceding and/or following word tokens, or their tags. \n",
        "  \n",
        "  For example, in Brill's notation:\n",
        "\n",
        "   IN NN WDPREVTAG DT while\n",
        "  \n",
        "  would change the tag of a word from IN (preposition) to NN (common noun), if the preceding word's tag is DT (determiner) and the word itself is \"while\".\n",
        "  This covers cases like \"all the while\" or \"in a while\", where \"while\" should be tagged as a noun rather than its more common use as a preposition.\n",
        "\n",
        "  Rules should only operate if the tag being changed is also known to be permissible, for the word in question or in principle.\n",
        "'''\n",
        "\n",
        "## Reduced categories corpus results\n",
        "import numpy as np\n",
        "import nltk\n",
        "nltk.download('cess_esp')\n",
        "from nltk.corpus import cess_esp\n",
        "import math\n",
        "from nltk.tag import UnigramTagger, brill, brill_trainer\n",
        "from sklearn.model_selection import KFold\n",
        "from random import shuffle\n",
        "\n",
        "\n",
        "# Carga del corpus                         \n",
        "corpus_reducido = reduce_corpus_categories(cess_esp.tagged_sents())\n",
        "shuffle(corpus_reducido)\n",
        "n_particiones = 10\n",
        "index = round(len(corpus_reducido)/n_particiones)\n",
        "results =[]\n",
        "deviation = []\n",
        "\n",
        "\n",
        "for i in range(n_particiones):\n",
        "    if i > 0 and i < 9:\n",
        "      train = corpus_reducido[:(index*i)-1] + corpus_reducido[index*(i+1)+1:]\n",
        "    elif i == 0:\n",
        "      train = corpus_reducido[index*(i+1)+1:]\n",
        "    else:\n",
        "      train = corpus_reducido[:(index*i)-1]\n",
        "\n",
        "    test = corpus_reducido[index*i:index*(i+1)]\n",
        "    number_test_samples = sum([len(sentence) for sentence in test])\n",
        "\n",
        "    # baseline tagger\n",
        "    unigrams = UnigramTagger(train)\n",
        "\n",
        "    # templates\n",
        "    brill.Template._cleartemplates()\n",
        "    templates = brill.nltkdemo18()\n",
        "\n",
        "    # Train with unigrams\n",
        "    unigram_trainer = nltk.tag.brill_trainer.BrillTaggerTrainer(initial_tagger=unigrams, templates=templates)\n",
        "    unigram_model = unigram_trainer.train(train, max_rules=1000)\n",
        "\n",
        "    # Test\n",
        "    accuracy = unigram_model.evaluate(test)\n",
        "    results.append(accuracy)\n",
        "    ic = 1.96 * math.sqrt(accuracy * (1 - accuracy) / number_test_samples)\n",
        "    deviation.append(ic)\n",
        "\n",
        "\n",
        "print('Corpus with reduced categories accuracy: ' + str(results))\n",
        "print('Corpus with reduced categories deviation: ' + str(deviation))\n",
        "\n",
        "import matplotlib.pyplot as plt\n",
        "x = [i for i in range(n_particiones)]\n",
        "y = results\n",
        "plt.axis([-1, 10, 0.87, 0.95])\n",
        "plt.ylabel('Accuracy')\n",
        "plt.xlabel('Fold')\n",
        "plt.title(str(n_particiones) + '-fold cross validation accuracy and confidence intervals')\n",
        "plt.plot(x,y,'ro')\n",
        "plt.errorbar(x,y,yerr=deviation,linestyle='None')\n",
        "plt.show()"
      ],
      "execution_count": null,
      "outputs": [
        {
          "output_type": "stream",
          "name": "stdout",
          "text": [
            "[nltk_data] Downloading package cess_esp to /root/nltk_data...\n",
            "[nltk_data]   Package cess_esp is already up-to-date!\n",
            "Corpus with reduced categories accuracy: [0.8972153531878293, 0.8966084952255515, 0.9000453880679813, 0.8977063010809385, 0.8973076513780994, 0.9066034294053266, 0.8948750205108571, 0.8962170623532482, 0.8994808631921825, 0.8999889551579412]\n",
            "Corpus with reduced categories deviation: [0.004364040010137223, 0.0044208105398447755, 0.0041748347438136275, 0.004312918247479847, 0.0043399646175032395, 0.004117434292134344, 0.004445969678145349, 0.004317886708463247, 0.004204527872883134, 0.00436981851597735]\n"
          ]
        },
        {
          "output_type": "display_data",
          "data": {
            "image/png": "[encoded data removed]",
            "text/plain": [
              "<Figure size 432x288 with 1 Axes>"
            ]
          },
          "metadata": {
            "needs_background": "light"
          }
        }
      ]
    },
    {
      "cell_type": "code",
      "metadata": {
        "colab": {
          "base_uri": "https://localhost:8080/",
          "height": 382
        },
        "id": "-GBgWa34DFzu",
        "outputId": "8cac3419-54bf-44b8-ecf7-0c2dbf0d1192"
      },
      "source": [
        "# Brill Tagger with hmm initial tagger\n",
        "\n",
        "## Reduced categories corpus results\n",
        "import numpy as np\n",
        "import nltk\n",
        "nltk.download('cess_esp')\n",
        "from nltk.corpus import cess_esp\n",
        "import math\n",
        "from nltk.tag import hmm, brill, brill_trainer\n",
        "from sklearn.model_selection import KFold\n",
        "\n",
        "\n",
        "# Carga del corpus                         \n",
        "corpus_reducido = np.array(reduce_corpus_categories(cess_esp.tagged_sents()),dtype=object)\n",
        "n_particiones = 10\n",
        "\n",
        "# Ten-fold cross-validation barajando el corpus\n",
        "kf = KFold(n_splits=n_particiones, shuffle=True)\n",
        "results =[]\n",
        "deviation = []\n",
        "for train_index, test_index in kf.split(corpus_reducido):\n",
        "    number_test_samples = sum([len(corpus_reducido[i]) for i in test_index])\n",
        "    train = corpus_reducido[train_index]\n",
        "    test = corpus_reducido[test_index]\n",
        "    # baseline tagger\n",
        "    tagger_hmm = hmm.HiddenMarkovModelTagger.train(train)\n",
        "\n",
        "    # templates\n",
        "    brill.Template._cleartemplates()\n",
        "    templates = brill.nltkdemo18() \n",
        "\n",
        "    # Train with hmm\n",
        "    hmm_trainer = nltk.tag.brill_trainer.BrillTaggerTrainer(initial_tagger=tagger_hmm, templates=templates)\n",
        "    hmm_model = hmm_trainer.train(train)\n",
        "\n",
        "    # Test\n",
        "    accuracy = hmm_model.evaluate(test)\n",
        "    results.append(accuracy)\n",
        "    ic = 1.96 * math.sqrt(accuracy * (1 - accuracy) / number_test_samples)\n",
        "    deviation.append(ic)\n",
        "\n",
        "print('Corpus with reduced categories accuracy: ' + str(results))\n",
        "print('Corpus with reduced categories deviation: ' + str(deviation))\n",
        "\n",
        "print_plot(results, deviation, n_particiones)"
      ],
      "execution_count": null,
      "outputs": [
        {
          "output_type": "stream",
          "name": "stdout",
          "text": [
            "[nltk_data] Downloading package cess_esp to /root/nltk_data...\n",
            "[nltk_data]   Package cess_esp is already up-to-date!\n",
            "Corpus with reduced categories accuracy: [0.9286793267155805, 0.927343791829523, 0.9288085577277757, 0.9277602523659306, 0.9275852660300137, 0.9256286484059273, 0.9264231183071169, 0.927556097065692, 0.9260641093011035, 0.932836986515333]\n",
            "Corpus with reduced categories deviation: [0.0037050038795768893, 0.003722710471088489, 0.003658636749462164, 0.003679228885932339, 0.00375253256907272, 0.0038527621641524894, 0.0036628988105126, 0.0036200620699088494, 0.0037177900284564233, 0.0035399266954988964]\n"
          ]
        },
        {
          "output_type": "display_data",
          "data": {
            "image/png": "[encoded data removed]",
            "text/plain": [
              "<Figure size 432x288 with 1 Axes>"
            ]
          },
          "metadata": {
            "needs_background": "light"
          }
        }
      ]
    },
    {
      "cell_type": "code",
      "metadata": {
        "colab": {
          "base_uri": "https://localhost:8080/"
        },
        "id": "j77Re-ExWoJo",
        "outputId": "a614f044-c021-4af8-f6c7-652ed9b171da"
      },
      "source": [
        "!pip install sklearn-pycrfsuite"
      ],
      "execution_count": null,
      "outputs": [
        {
          "output_type": "stream",
          "name": "stdout",
          "text": [
            "Requirement already satisfied: sklearn-pycrfsuite in /usr/local/lib/python3.7/dist-packages (0.4.0)\n",
            "Requirement already satisfied: tqdm>=2.0 in /usr/local/lib/python3.7/dist-packages (from sklearn-pycrfsuite) (4.62.3)\n",
            "Requirement already satisfied: six in /usr/local/lib/python3.7/dist-packages (from sklearn-pycrfsuite) (1.15.0)\n",
            "Requirement already satisfied: python-crfsuite-extension in /usr/local/lib/python3.7/dist-packages (from sklearn-pycrfsuite) (0.9.7)\n",
            "Requirement already satisfied: tabulate in /usr/local/lib/python3.7/dist-packages (from sklearn-pycrfsuite) (0.8.9)\n"
          ]
        }
      ]
    },
    {
      "cell_type": "code",
      "metadata": {
        "colab": {
          "base_uri": "https://localhost:8080/",
          "height": 382
        },
        "id": "_F1550EBFCDC",
        "outputId": "bea26c76-9806-46c9-c3ab-573e3602f13a"
      },
      "source": [
        "# CRF\n",
        "from nltk.tag import CRFTagger\n",
        "import numpy as np\n",
        "import nltk\n",
        "nltk.download('cess_esp')\n",
        "from nltk.corpus import cess_esp\n",
        "import math\n",
        "from sklearn.model_selection import KFold\n",
        "\n",
        "\n",
        "# Carga del corpus                         \n",
        "corpus_reducido = np.array(reduce_corpus_categories(cess_esp.tagged_sents()),dtype=object)\n",
        "n_particiones = 10\n",
        "\n",
        "# Ten-fold cross-validation barajando el corpus\n",
        "kf = KFold(n_splits=n_particiones, shuffle=True)\n",
        "results =[]\n",
        "deviation = []\n",
        "for train_index, test_index in kf.split(corpus_reducido):\n",
        "    number_test_samples = sum([len(corpus_reducido[i]) for i in test_index])\n",
        "    train = corpus_reducido[train_index]\n",
        "    test = corpus_reducido[test_index]\n",
        "    crf_tagger = CRFTagger()\n",
        "    crf_tagger.train(train,'model.crf.tagger')\n",
        "    accuracy = crf_tagger.evaluate(test)\n",
        "    results.append(accuracy)\n",
        "    ic = 1.96 * math.sqrt(accuracy * (1 - accuracy) / number_test_samples)\n",
        "    deviation.append(ic)\n",
        "\n",
        "print('Corpus with reduced categories accuracy: ' + str(results))\n",
        "print('Corpus with reduced categories deviation: ' + str(deviation))\n",
        "\n",
        "import matplotlib.pyplot as plt\n",
        "x = [i for i in range(n_particiones)]\n",
        "y = results\n",
        "plt.axis([-1, 10, 0.92, 1.0])\n",
        "plt.ylabel('Accuracy')\n",
        "plt.xlabel('Fold')\n",
        "plt.title(str(n_particiones) + '-fold cross validation accuracy and confidence intervals')\n",
        "plt.plot(x,y,'ro')\n",
        "plt.errorbar(x,y,yerr=deviation,linestyle='None')\n",
        "plt.show()"
      ],
      "execution_count": null,
      "outputs": [
        {
          "output_type": "stream",
          "name": "stdout",
          "text": [
            "[nltk_data] Downloading package cess_esp to /root/nltk_data...\n",
            "[nltk_data]   Package cess_esp is already up-to-date!\n",
            "Corpus with reduced categories accuracy: [0.9578688438792066, 0.9601715357812919, 0.9556773438331382, 0.9539470340059981, 0.9597948829851072, 0.9575033200531209, 0.953127499600064, 0.9572649572649573, 0.9569541735736057, 0.9558925987459135]\n",
            "Corpus with reduced categories deviation: [0.0028484889013369544, 0.0028062711949325956, 0.0029424899941572994, 0.0029289483230301094, 0.0028437595533933203, 0.0028816167787221645, 0.0030252081049397367, 0.002853180979264061, 0.0029089399209930333, 0.0029462674906792475]\n"
          ]
        },
        {
          "output_type": "display_data",
          "data": {
            "image/png": "[encoded data removed]",
            "text/plain": [
              "<Figure size 432x288 with 1 Axes>"
            ]
          },
          "metadata": {
            "needs_background": "light"
          }
        }
      ]
    },
    {
      "cell_type": "code",
      "metadata": {
        "colab": {
          "base_uri": "https://localhost:8080/",
          "height": 450
        },
        "id": "IcXKgzofFDXB",
        "outputId": "4ec29585-32e0-4f12-94b3-9c5d541877cb"
      },
      "source": [
        "# Perceptrón load=true\n",
        "import nltk\n",
        "nltk.download('averaged_perceptron_tagger')\n",
        "nltk.download('cess_esp')\n",
        "import numpy as np\n",
        "from nltk.tag.perceptron import PerceptronTagger\n",
        "from nltk.corpus import cess_esp\n",
        "import math\n",
        "from sklearn.model_selection import KFold\n",
        "\n",
        "\n",
        "# Carga del corpus                         \n",
        "corpus_reducido = np.array(reduce_corpus_categories(cess_esp.tagged_sents()),dtype=object)\n",
        "n_particiones = 10\n",
        "\n",
        "# Ten-fold cross-validation barajando el corpus\n",
        "kf = KFold(n_splits=n_particiones, shuffle=True)\n",
        "results =[]\n",
        "deviation = []\n",
        "for train_index, test_index in kf.split(corpus_reducido):\n",
        "    number_test_samples = sum([len(corpus_reducido[i]) for i in test_index])\n",
        "    train = corpus_reducido[train_index]\n",
        "    test = corpus_reducido[test_index]\n",
        "    perceptron_tagger = PerceptronTagger()\n",
        "    perceptron_tagger.train(train)\n",
        "    accuracy = perceptron_tagger.evaluate(test)\n",
        "    results.append(accuracy)\n",
        "    ic = 1.96 * math.sqrt(accuracy * (1 - accuracy) / number_test_samples)\n",
        "    deviation.append(ic)\n",
        "\n",
        "print('Corpus with reduced categories accuracy: ' + str(results))\n",
        "print('Corpus with reduced categories deviation: ' + str(deviation))\n",
        "\n",
        "import matplotlib.pyplot as plt\n",
        "x = [i for i in range(n_particiones)]\n",
        "y = results\n",
        "plt.axis([-1, 10, 0.98, 1.0])\n",
        "plt.ylabel('Accuracy')\n",
        "plt.xlabel('Fold')\n",
        "plt.title(str(n_particiones) + '-fold cross validation accuracy and confidence intervals')\n",
        "plt.plot(x,y,'ro')\n",
        "plt.errorbar(x,y,yerr=deviation,linestyle='None')\n",
        "plt.show()"
      ],
      "execution_count": null,
      "outputs": [
        {
          "output_type": "stream",
          "name": "stdout",
          "text": [
            "[nltk_data] Downloading package averaged_perceptron_tagger to\n",
            "[nltk_data]     /root/nltk_data...\n",
            "[nltk_data]   Package averaged_perceptron_tagger is already up-to-\n",
            "[nltk_data]       date!\n",
            "[nltk_data] Downloading package cess_esp to /root/nltk_data...\n",
            "[nltk_data]   Package cess_esp is already up-to-date!\n",
            "Corpus with reduced categories accuracy: [0.9933823529411765, 0.9929979253112033, 0.9927462798015895, 0.9927043608025203, 0.991927503775845, 0.9918881885448068, 0.9918371730841523, 0.9917599830974012, 0.9913195336175459, 0.9927502216658843]\n",
            "Corpus with reduced categories deviation: [0.0011516821087987994, 0.0011770369499933006, 0.001214693061110737, 0.0012400591996565202, 0.001265721155410034, 0.0013015906515625782, 0.0012923943651415716, 0.001287731042672138, 0.0013030545903565548, 0.0012008628110373443]\n"
          ]
        },
        {
          "output_type": "display_data",
          "data": {
            "image/png": "[encoded data removed]",
            "text/plain": [
              "<Figure size 432x288 with 1 Axes>"
            ]
          },
          "metadata": {
            "needs_background": "light"
          }
        }
      ]
    },
    {
      "cell_type": "code",
      "metadata": {
        "colab": {
          "base_uri": "https://localhost:8080/",
          "height": 451
        },
        "id": "q7PJyFrhK1pG",
        "outputId": "dbe50b3c-8478-4040-fbc5-10f68cb71252"
      },
      "source": [
        "# Perceptrón load=false\n",
        "import nltk\n",
        "nltk.download('averaged_perceptron_tagger')\n",
        "nltk.download('cess_esp')\n",
        "import numpy as np\n",
        "from nltk.tag.perceptron import PerceptronTagger\n",
        "from nltk.corpus import cess_esp\n",
        "import math\n",
        "from sklearn.model_selection import KFold\n",
        "\n",
        "\n",
        "# Carga del corpus                         \n",
        "corpus_reducido = np.array(reduce_corpus_categories(cess_esp.tagged_sents()),dtype=object)\n",
        "n_particiones = 10\n",
        "# Ten-fold cross-validation barajando el corpus\n",
        "kf = KFold(n_splits=n_particiones, shuffle=True)\n",
        "results =[]\n",
        "deviation = []\n",
        "for train_index, test_index in kf.split(corpus_reducido):\n",
        "    number_test_samples = sum([len(corpus_reducido[i]) for i in test_index])\n",
        "    train = corpus_reducido[train_index]\n",
        "    test = corpus_reducido[test_index]\n",
        "    perceptron_tagger = PerceptronTagger(load=False)\n",
        "    perceptron_tagger.train(train)\n",
        "    accuracy = perceptron_tagger.evaluate(test)\n",
        "    results.append(accuracy)\n",
        "    ic = 1.96 * math.sqrt(accuracy * (1 - accuracy) / number_test_samples)\n",
        "    deviation.append(ic)\n",
        "\n",
        "\n",
        "print('Corpus with reduced categories accuracy: ' + str(results))\n",
        "print('Corpus with reduced categories deviation: ' + str(deviation))\n",
        "\n",
        "\n",
        "import matplotlib.pyplot as plt\n",
        "x = [i for i in range(n_particiones)]\n",
        "y = results\n",
        "plt.axis([-1, 10, 0.94, 0.99])\n",
        "plt.ylabel('Accuracy')\n",
        "plt.xlabel('Fold')\n",
        "plt.title(str(n_particiones) + '-fold cross validation accuracy and confidence intervals')\n",
        "plt.plot(x,y,'ro')\n",
        "plt.errorbar(x,y,yerr=deviation,linestyle='None')\n",
        "plt.show()"
      ],
      "execution_count": null,
      "outputs": [
        {
          "output_type": "stream",
          "name": "stdout",
          "text": [
            "[nltk_data] Downloading package averaged_perceptron_tagger to\n",
            "[nltk_data]     /root/nltk_data...\n",
            "[nltk_data]   Package averaged_perceptron_tagger is already up-to-\n",
            "[nltk_data]       date!\n",
            "[nltk_data] Downloading package cess_esp to /root/nltk_data...\n",
            "[nltk_data]   Package cess_esp is already up-to-date!\n",
            "Corpus with reduced categories accuracy: [0.9682426110407838, 0.968110276720502, 0.9670582093448186, 0.9649708090075062, 0.9696100308150037, 0.9677385345282025, 0.9701220818162347, 0.9666056006281079, 0.9662739783152627, 0.9651856763925729]\n",
            "Corpus with reduced categories deviation: [0.0025497937293364973, 0.0024698660042626833, 0.002527638156119169, 0.002601708465385966, 0.002452374922830687, 0.002514452690999509, 0.0024417573327038173, 0.0025476749815145994, 0.0025545781194646323, 0.0026708481225574225]\n"
          ]
        },
        {
          "output_type": "display_data",
          "data": {
            "image/png": "[encoded data removed]",
            "text/plain": [
              "<Figure size 432x288 with 1 Axes>"
            ]
          },
          "metadata": {
            "needs_background": "light"
          }
        }
      ]
    },
    {
      "cell_type": "markdown",
      "metadata": {
        "id": "gbst2Da3wlKD"
      },
      "source": [
        "#### ***Tarea 5: Evaluación del paquete Freeling***\n",
        "Realizar un estudio de la herramienta Freeling. Considerar diferentes aspectos: facilidad/problemas de instalación, facilidad de uso, documentación, funcionalidad, etc. Esta herramienta de libre distribución se puede obtener en la siguiente dirección http://nlp.lsi.upc.edu/freeling/\n",
        "\n",
        "Usar Freeling para realizar el etiquetado morfosintáctico del texto del fichero Alicia.txt. Se debe entregar un fichero tipo texto con el formato: palabra/etiqueta"
      ]
    },
    {
      "cell_type": "markdown",
      "metadata": {
        "id": "UjEd_OdjJ2FD"
      },
      "source": [
        "> freeling\\bin\\analyze.bat -f es.cfg < Alicia_utf8.txt > .\\results.txt"
      ]
    },
    {
      "cell_type": "code",
      "metadata": {
        "id": "OGTXbnJnpqJu"
      },
      "source": [
        ""
      ],
      "execution_count": null,
      "outputs": []
    }
  ]
}