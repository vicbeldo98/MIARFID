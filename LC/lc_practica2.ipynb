{
  "nbformat": 4,
  "nbformat_minor": 0,
  "metadata": {
    "colab": {
      "name": "lc-practica2.ipynb",
      "provenance": [],
      "collapsed_sections": []
    },
    "kernelspec": {
      "name": "python3",
      "display_name": "Python 3"
    },
    "language_info": {
      "name": "python"
    }
  },
  "cells": [
    {
      "cell_type": "code",
      "metadata": {
        "id": "jM4K7Z_mARHr"
      },
      "source": [
        "# Imports\n",
        "import math\n",
        "import nltk\n",
        "from nltk.corpus import cess_esp\n",
        "import matplotlib.pyplot as plt"
      ],
      "execution_count": 1,
      "outputs": []
    },
    {
      "cell_type": "code",
      "metadata": {
        "colab": {
          "base_uri": "https://localhost:8080/"
        },
        "id": "dtagfqT8A0kM",
        "outputId": "d624ad41-2444-4f04-fb95-b9d97fcfc49c"
      },
      "source": [
        "nltk.download('cess_esp')"
      ],
      "execution_count": 2,
      "outputs": [
        {
          "output_type": "stream",
          "name": "stdout",
          "text": [
            "[nltk_data] Downloading package cess_esp to /root/nltk_data...\n",
            "[nltk_data]   Unzipping corpora/cess_esp.zip.\n"
          ]
        },
        {
          "output_type": "execute_result",
          "data": {
            "text/plain": [
              "True"
            ]
          },
          "metadata": {},
          "execution_count": 2
        }
      ]
    },
    {
      "cell_type": "code",
      "metadata": {
        "id": "QzZmeZq4AIcj"
      },
      "source": [
        "\n",
        "# Carga del corpus                         \n",
        "corpus_sentences=cess_esp.tagged_sents()\n",
        "number_sentences=len(corpus_sentences)"
      ],
      "execution_count": 3,
      "outputs": []
    },
    {
      "cell_type": "code",
      "metadata": {
        "id": "RPXocBEOAfDq"
      },
      "source": [
        "# Preprocesar etiquetas corpus\n",
        "corpus = []\n",
        "for s in (corpus_sentences):\n",
        "    sentence=[]\n",
        "    for x in s:\n",
        "        word, tag = x\n",
        "        if(word=='*0*' and tag.startswith('sn')):\n",
        "            continue\n",
        "        if(len(tag) >= 3):\n",
        "            if(tag.startswith('v') or tag.startswith('F')):\n",
        "                tag = tag[0:3]\n",
        "            else:\n",
        "                tag = tag[0:2]\n",
        "        x = (word, tag)\n",
        "        sentence.append(x)\n",
        "    corpus.append(sentence)    "
      ],
      "execution_count": 4,
      "outputs": []
    },
    {
      "cell_type": "markdown",
      "metadata": {
        "id": "ALp_BcnCBLsa"
      },
      "source": [
        "# **Hidden Markov Models Approach(HMM)**"
      ]
    },
    {
      "cell_type": "code",
      "metadata": {
        "colab": {
          "base_uri": "https://localhost:8080/",
          "height": 662
        },
        "id": "kb0Q4ebfBB7c",
        "outputId": "a2f4a7c3-c7c7-4efc-e3d4-29f2b61a029a"
      },
      "source": [
        "# Partir el corpus en train y test\n",
        "number_sentences = len(corpus)\n",
        "number_train_sentences = round(number_sentences*0.9)\n",
        "number_test_sentences = number_sentences - number_train_sentences\n",
        "\n",
        "from nltk.tag import hmm\n",
        "from sklearn.model_selection import KFold\n",
        "import numpy as np\n",
        "\n",
        "c = np.array(corpus, dtype=object)\n",
        "\n",
        "# Ten-fold cross-validation\n",
        "\n",
        "# Resultados sin shuffle \n",
        "kf = KFold(n_splits=10, shuffle=False)\n",
        "a =kf.get_n_splits(c)\n",
        "\n",
        "non_shuffled_results = []\n",
        "non_shuffled_conf = []\n",
        "\n",
        "for train_index, test_index in kf.split(c):\n",
        "\n",
        "    train = c[train_index]\n",
        "    test = c[test_index]\n",
        "    tagger_hmm=hmm.HiddenMarkovModelTagger.train(train)\n",
        "    ac = tagger_hmm.evaluate(test)\n",
        "    non_shuffled_results.append(ac)\n",
        "    ic = 1.96*math.sqrt((ac* (1-ac))/number_test_sentences)\n",
        "    non_shuffled_conf.append(ic)\n",
        "\n",
        "print('Original corpus accuracy: ' + str(non_shuffled_results))\n",
        "print('Original corpus deviation: ' + str(non_shuffled_conf))\n",
        "\n",
        "# Resultados con shuffle \n",
        "kf = KFold(n_splits=10, shuffle=True)\n",
        "a =kf.get_n_splits(c)\n",
        "\n",
        "shuffled_results =[]\n",
        "shuffled_conf = []\n",
        "for train_index, test_index in kf.split(c):\n",
        "\n",
        "    train = c[train_index]\n",
        "    test = c[test_index]\n",
        "    tagger_hmm=hmm.HiddenMarkovModelTagger.train(train)\n",
        "    ac = tagger_hmm.evaluate(test)\n",
        "    shuffled_results.append(ac)\n",
        "    ic = 1.96*math.sqrt((ac* (1-ac))/number_test_sentences)\n",
        "    shuffled_conf.append(ic)\n",
        "\n",
        "print('Shuffled corpus accuracy: ' + str(shuffled_results))\n",
        "print('Shuffled corpus deviation: ' + str(shuffled_conf))\n",
        "\n",
        "# Print graphic for original results\n",
        "x=[i for i in range(10)]\n",
        "y=non_shuffled_results\n",
        "plt.axis([-1, 10, 0.84, 0.95])\n",
        "plt.ylabel('Accuracy')\n",
        "plt.xlabel('Fold')\n",
        "plt.title('Ten-fold cross validation original corpus')\n",
        "plt.plot(x,y,'ro')\n",
        "plt.errorbar(x,y,yerr=non_shuffled_conf,linestyle='None')\n",
        "plt.show()\n",
        "\n",
        "# Print graphic for shuffled results\n",
        "x=[i for i in range(10)]\n",
        "y=shuffled_results\n",
        "plt.axis([-1, 10, 0.84, 0.95])\n",
        "plt.ylabel('Accuracy')\n",
        "plt.xlabel('Fold')\n",
        "plt.title('Ten-fold cross validation shuffled corpus')\n",
        "plt.plot(x,y,'ro')\n",
        "plt.errorbar(x,y,yerr=shuffled_conf,linestyle='None')\n",
        "plt.show()"
      ],
      "execution_count": null,
      "outputs": [
        {
          "output_type": "stream",
          "name": "stdout",
          "text": [
            "Original corpus accuracy: [0.9283174828904097, 0.9237111533931321, 0.9228301472203911, 0.9251465103889185, 0.9228631913204551, 0.8781806196440343, 0.887891425743974, 0.8913107511045656, 0.8911650954798163, 0.8784427571832664]\n",
            "Original corpus deviation: [0.020589808319485307, 0.0211882961050311, 0.02130012430832227, 0.021004323505633294, 0.021295944733093083, 0.026106432740275777, 0.02518237930077728, 0.024843071059600663, 0.024857680382111613, 0.026082220904978973]\n",
            "Shuffled corpus accuracy: [0.9289944013781223, 0.9261574319313487, 0.9249959761789796, 0.9254976206314282, 0.9272536136662286, 0.9284084275327708, 0.9194408490810251, 0.925351724137931, 0.9251440544787847, 0.9242367734029516]\n",
            "Shuffled corpus deviation: [0.020499830030312957, 0.020873401138332862, 0.02102372264926409, 0.020958979845771237, 0.020730147627570677, 0.02057775077885382, 0.021722847469933367, 0.020977837900041513, 0.021004640194425318, 0.021121184409629186]\n"
          ]
        },
        {
          "output_type": "display_data",
          "data": {
            "image/png": "[encoded data removed]",
            "text/plain": [
              "<Figure size 432x288 with 1 Axes>"
            ]
          },
          "metadata": {
            "needs_background": "light"
          }
        },
        {
          "output_type": "display_data",
          "data": {
            "image/png": "[encoded data removed]",
            "text/plain": [
              "<Figure size 432x288 with 1 Axes>"
            ]
          },
          "metadata": {
            "needs_background": "light"
          }
        }
      ]
    },
    {
      "cell_type": "markdown",
      "metadata": {
        "id": "6Wh7dRImECQy"
      },
      "source": [
        "#**Trigrams'n'Tags (TNT)**"
      ]
    },
    {
      "cell_type": "code",
      "metadata": {
        "colab": {
          "base_uri": "https://localhost:8080/",
          "height": 660
        },
        "id": "hlIjrOXhF3bW",
        "outputId": "d7792478-e9e6-44e8-c2e3-bd202f588c0d"
      },
      "source": [
        "# Partir el corpus en train y test\n",
        "number_sentences = len(corpus)\n",
        "number_train_sentences = round(number_sentences*0.9)\n",
        "number_test_sentences = number_sentences - number_train_sentences\n",
        "\n",
        "from nltk.tag import tnt\n",
        "from sklearn.model_selection import KFold\n",
        "import numpy as np\n",
        "\n",
        "c = np.array(corpus, dtype=object)\n",
        "\n",
        "# Ten-fold cross-validation\n",
        "\n",
        "# Resultados sin shuffle \n",
        "kf = KFold(n_splits=10, shuffle=False)\n",
        "a =kf.get_n_splits(c)\n",
        "\n",
        "non_shuffled_results = []\n",
        "non_shuffled_conf = []\n",
        "\n",
        "for train_index, test_index in kf.split(c):\n",
        "\n",
        "    train = c[train_index]\n",
        "    test = c[test_index]\n",
        "    tagger_tnt = tnt.TnT()\n",
        "    tagger_tnt.train(train)\n",
        "    ac = tagger_tnt.evaluate(test)\n",
        "    non_shuffled_results.append(ac)\n",
        "    ic = 1.96*math.sqrt((ac* (1-ac))/number_test_sentences)\n",
        "    non_shuffled_conf.append(ic)\n",
        "\n",
        "print('Original corpus accuracy: ' + str(non_shuffled_results))\n",
        "print('Original corpus deviation: ' + str(non_shuffled_conf))\n",
        "\n",
        "# Resultados con shuffle \n",
        "kf = KFold(n_splits=10, shuffle=True)\n",
        "a =kf.get_n_splits(c)\n",
        "\n",
        "shuffled_results =[]\n",
        "shuffled_conf = []\n",
        "for train_index, test_index in kf.split(c):\n",
        "\n",
        "    train = c[train_index]\n",
        "    test = c[test_index]\n",
        "    tagger_tnt = tnt.TnT()\n",
        "    tagger_tnt.train(train)\n",
        "    ac = tagger_tnt.evaluate(test)\n",
        "    shuffled_results.append(ac)\n",
        "    ic = 1.96*math.sqrt((ac* (1-ac))/number_test_sentences)\n",
        "    shuffled_conf.append(ic)\n",
        "\n",
        "print('Shuffled corpus accuracy: ' + str(shuffled_results))\n",
        "print('Shuffled corpus deviation: ' + str(shuffled_conf))\n",
        "\n",
        "# Print graphic for original results\n",
        "x=[i for i in range(10)]\n",
        "y=non_shuffled_results\n",
        "plt.axis([-1, 10, 0.6, 0.95])\n",
        "plt.ylabel('Accuracy')\n",
        "plt.xlabel('Fold')\n",
        "plt.title('Ten-fold cross validation original corpus')\n",
        "plt.plot(x,y,'ro')\n",
        "plt.errorbar(x,y,yerr=non_shuffled_conf,linestyle='None')\n",
        "plt.show()\n",
        "\n",
        "# Print graphic for shuffled results\n",
        "x=[i for i in range(10)]\n",
        "y=shuffled_results\n",
        "plt.axis([-1, 10, 0.84, 0.95])\n",
        "plt.ylabel('Accuracy')\n",
        "plt.xlabel('Fold')\n",
        "plt.title('Ten-fold cross validation shuffled corpus')\n",
        "plt.plot(x,y,'ro')\n",
        "plt.errorbar(x,y,yerr=shuffled_conf,linestyle='None')\n",
        "plt.show()"
      ],
      "execution_count": 6,
      "outputs": [
        {
          "output_type": "stream",
          "name": "stdout",
          "text": [
            "Original corpus accuracy: [0.8963203270820371, 0.8886019751744133, 0.8864864864864865, 0.88949564908542, 0.8928287906853665, 0.8389584706657878, 0.8583445253410618, 0.8506627393225331, 0.8591370558375635, 0.8255173440524044]\n",
            "Original corpus deviation: [0.02433189016196915, 0.025112491206031224, 0.025319624362368197, 0.02502413177278914, 0.024689970674732113, 0.02933841111855451, 0.027832032178867174, 0.028448554921733562, 0.02776687604508008, 0.030292606824607833]\n",
            "Shuffled corpus accuracy: [0.898061185258417, 0.9057971014492754, 0.8980543921963633, 0.9004941126997477, 0.9010152284263959, 0.9016537467700259, 0.8982892690513219, 0.90508655126498, 0.8994883985323756, 0.9064724743220477]\n",
            "Shuffled corpus deviation: [0.024150168668989787, 0.023315514936705584, 0.024150881981689968, 0.023892535641474713, 0.023836784681660773, 0.023768196025742688, 0.024126199173040316, 0.02339410033199411, 0.02399956084013511, 0.023240445468427233]\n"
          ]
        },
        {
          "output_type": "display_data",
          "data": {
            "image/png": "[encoded data removed]",
            "text/plain": [
              "<Figure size 432x288 with 1 Axes>"
            ]
          },
          "metadata": {
            "needs_background": "light"
          }
        },
        {
          "output_type": "display_data",
          "data": {
            "image/png": "[encoded data removed]",
            "text/plain": [
              "<Figure size 432x288 with 1 Axes>"
            ]
          },
          "metadata": {
            "needs_background": "light"
          }
        }
      ]
    }
  ]
}