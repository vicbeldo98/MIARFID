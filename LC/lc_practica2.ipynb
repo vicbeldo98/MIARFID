{
  "nbformat": 4,
  "nbformat_minor": 0,
  "metadata": {
    "colab": {
      "name": "lc-practica2.ipynb",
      "provenance": [],
      "collapsed_sections": []
    },
    "kernelspec": {
      "name": "python3",
      "display_name": "Python 3"
    },
    "language_info": {
      "name": "python"
    }
  },
  "cells": [
    {
      "cell_type": "code",
      "metadata": {
        "id": "jM4K7Z_mARHr"
      },
      "source": [
        "# Imports\n",
        "import math\n",
        "import nltk\n",
        "from nltk.corpus import cess_esp\n",
        "import matplotlib.pyplot as plt"
      ],
      "execution_count": 8,
      "outputs": []
    },
    {
      "cell_type": "code",
      "metadata": {
        "colab": {
          "base_uri": "https://localhost:8080/"
        },
        "id": "dtagfqT8A0kM",
        "outputId": "7fc27273-dc86-4654-fb29-fd6c074e8e73"
      },
      "source": [
        "nltk.download('cess_esp')"
      ],
      "execution_count": 9,
      "outputs": [
        {
          "output_type": "stream",
          "name": "stdout",
          "text": [
            "[nltk_data] Downloading package cess_esp to /root/nltk_data...\n",
            "[nltk_data]   Package cess_esp is already up-to-date!\n"
          ]
        },
        {
          "output_type": "execute_result",
          "data": {
            "text/plain": [
              "True"
            ]
          },
          "metadata": {},
          "execution_count": 9
        }
      ]
    },
    {
      "cell_type": "code",
      "metadata": {
        "id": "QzZmeZq4AIcj"
      },
      "source": [
        "\n",
        "# Carga del corpus                         \n",
        "corpus_sentences=cess_esp.tagged_sents()\n",
        "number_sentences=len(corpus_sentences)"
      ],
      "execution_count": 10,
      "outputs": []
    },
    {
      "cell_type": "code",
      "metadata": {
        "id": "RPXocBEOAfDq"
      },
      "source": [
        "# Preprocesar etiquetas corpus\n",
        "corpus = []\n",
        "for s in (corpus_sentences):\n",
        "    sentence=[]\n",
        "    for x in s:\n",
        "        word, tag = x\n",
        "        if(word=='*0*' and tag.startswith('sn')):\n",
        "            continue\n",
        "        if(len(tag) >= 3):\n",
        "            if(tag.startswith('v') or tag.startswith('F')):\n",
        "                tag = tag[0:3]\n",
        "            else:\n",
        "                tag = tag[0:2]\n",
        "        x = (word, tag)\n",
        "        sentence.append(x)\n",
        "    corpus.append(sentence)    "
      ],
      "execution_count": 11,
      "outputs": []
    },
    {
      "cell_type": "markdown",
      "metadata": {
        "id": "ALp_BcnCBLsa"
      },
      "source": [
        "# **Hidden Markov Models Approach(HMM)**"
      ]
    },
    {
      "cell_type": "code",
      "metadata": {
        "colab": {
          "base_uri": "https://localhost:8080/",
          "height": 662
        },
        "id": "kb0Q4ebfBB7c",
        "outputId": "a2f4a7c3-c7c7-4efc-e3d4-29f2b61a029a"
      },
      "source": [
        "# Partir el corpus en train y test\n",
        "number_sentences = len(corpus)\n",
        "number_train_sentences = round(number_sentences*0.9)\n",
        "number_test_sentences = number_sentences - number_train_sentences\n",
        "\n",
        "from nltk.tag import hmm\n",
        "from sklearn.model_selection import KFold\n",
        "import numpy as np\n",
        "\n",
        "c = np.array(corpus, dtype=object)\n",
        "\n",
        "# Ten-fold cross-validation\n",
        "\n",
        "# Resultados sin shuffle \n",
        "kf = KFold(n_splits=10, shuffle=False)\n",
        "a =kf.get_n_splits(c)\n",
        "\n",
        "non_shuffled_results = []\n",
        "non_shuffled_conf = []\n",
        "\n",
        "for train_index, test_index in kf.split(c):\n",
        "\n",
        "    train = c[train_index]\n",
        "    test = c[test_index]\n",
        "    tagger_hmm=hmm.HiddenMarkovModelTagger.train(train)\n",
        "    ac = tagger_hmm.evaluate(test)\n",
        "    non_shuffled_results.append(ac)\n",
        "    ic = 1.96*math.sqrt((ac* (1-ac))/number_test_sentences)\n",
        "    non_shuffled_conf.append(ic)\n",
        "\n",
        "print('Original corpus accuracy: ' + str(non_shuffled_results))\n",
        "print('Original corpus deviation: ' + str(non_shuffled_conf))\n",
        "\n",
        "# Resultados con shuffle \n",
        "kf = KFold(n_splits=10, shuffle=True)\n",
        "a =kf.get_n_splits(c)\n",
        "\n",
        "shuffled_results =[]\n",
        "shuffled_conf = []\n",
        "for train_index, test_index in kf.split(c):\n",
        "\n",
        "    train = c[train_index]\n",
        "    test = c[test_index]\n",
        "    tagger_hmm=hmm.HiddenMarkovModelTagger.train(train)\n",
        "    ac = tagger_hmm.evaluate(test)\n",
        "    shuffled_results.append(ac)\n",
        "    ic = 1.96*math.sqrt((ac* (1-ac))/number_test_sentences)\n",
        "    shuffled_conf.append(ic)\n",
        "\n",
        "print('Shuffled corpus accuracy: ' + str(shuffled_results))\n",
        "print('Shuffled corpus deviation: ' + str(shuffled_conf))\n",
        "\n",
        "# Print graphic for original results\n",
        "x=[i for i in range(10)]\n",
        "y=non_shuffled_results\n",
        "plt.axis([-1, 10, 0.84, 0.95])\n",
        "plt.ylabel('Accuracy')\n",
        "plt.xlabel('Fold')\n",
        "plt.title('Ten-fold cross validation original corpus')\n",
        "plt.plot(x,y,'ro')\n",
        "plt.errorbar(x,y,yerr=non_shuffled_conf,linestyle='None')\n",
        "plt.show()\n",
        "\n",
        "# Print graphic for shuffled results\n",
        "x=[i for i in range(10)]\n",
        "y=shuffled_results\n",
        "plt.axis([-1, 10, 0.84, 0.95])\n",
        "plt.ylabel('Accuracy')\n",
        "plt.xlabel('Fold')\n",
        "plt.title('Ten-fold cross validation shuffled corpus')\n",
        "plt.plot(x,y,'ro')\n",
        "plt.errorbar(x,y,yerr=shuffled_conf,linestyle='None')\n",
        "plt.show()"
      ],
      "execution_count": 14,
      "outputs": [
        {
          "output_type": "stream",
          "name": "stdout",
          "text": [
            "Original corpus accuracy: [0.9283174828904097, 0.9237111533931321, 0.9228301472203911, 0.9251465103889185, 0.9228631913204551, 0.8781806196440343, 0.887891425743974, 0.8913107511045656, 0.8911650954798163, 0.8784427571832664]\n",
            "Original corpus deviation: [0.020589808319485307, 0.0211882961050311, 0.02130012430832227, 0.021004323505633294, 0.021295944733093083, 0.026106432740275777, 0.02518237930077728, 0.024843071059600663, 0.024857680382111613, 0.026082220904978973]\n",
            "Shuffled corpus accuracy: [0.9289944013781223, 0.9261574319313487, 0.9249959761789796, 0.9254976206314282, 0.9272536136662286, 0.9284084275327708, 0.9194408490810251, 0.925351724137931, 0.9251440544787847, 0.9242367734029516]\n",
            "Shuffled corpus deviation: [0.020499830030312957, 0.020873401138332862, 0.02102372264926409, 0.020958979845771237, 0.020730147627570677, 0.02057775077885382, 0.021722847469933367, 0.020977837900041513, 0.021004640194425318, 0.021121184409629186]\n"
          ]
        },
        {
          "output_type": "display_data",
          "data": {
            "image/png": "[encoded data removed]",
            "text/plain": [
              "<Figure size 432x288 with 1 Axes>"
            ]
          },
          "metadata": {
            "needs_background": "light"
          }
        },
        {
          "output_type": "display_data",
          "data": {
            "image/png": "[encoded data removed]",
            "text/plain": [
              "<Figure size 432x288 with 1 Axes>"
            ]
          },
          "metadata": {
            "needs_background": "light"
          }
        }
      ]
    },
    {
      "cell_type": "markdown",
      "metadata": {
        "id": "6Wh7dRImECQy"
      },
      "source": [
        "#**Trigrams'n'Tags (TNT)**"
      ]
    },
    {
      "cell_type": "code",
      "metadata": {
        "colab": {
          "base_uri": "https://localhost:8080/",
          "height": 662
        },
        "id": "hlIjrOXhF3bW",
        "outputId": "1e3e7a9a-c476-4694-ecf9-3cc6a9f7aed4"
      },
      "source": [
        "# Partir el corpus en train y test\n",
        "number_sentences = len(corpus)\n",
        "number_train_sentences = round(number_sentences*0.9)\n",
        "number_test_sentences = number_sentences - number_train_sentences\n",
        "\n",
        "from nltk.tag import tnt\n",
        "from sklearn.model_selection import KFold\n",
        "import numpy as np\n",
        "\n",
        "c = np.array(corpus, dtype=object)\n",
        "\n",
        "# Ten-fold cross-validation\n",
        "\n",
        "# Resultados sin shuffle \n",
        "kf = KFold(n_splits=10, shuffle=False)\n",
        "a =kf.get_n_splits(c)\n",
        "\n",
        "non_shuffled_results = []\n",
        "non_shuffled_conf = []\n",
        "\n",
        "for train_index, test_index in kf.split(c):\n",
        "\n",
        "    train = c[train_index]\n",
        "    test = c[test_index]\n",
        "    tagger_tnt = tnt.TnT()\n",
        "    tagger_tnt.train(train)\n",
        "    ac = tagger_tnt.evaluate(test)\n",
        "    non_shuffled_results.append(ac)\n",
        "    ic = 1.96*math.sqrt((ac* (1-ac))/number_test_sentences)\n",
        "    non_shuffled_conf.append(ic)\n",
        "\n",
        "print('Original corpus accuracy: ' + str(non_shuffled_results))\n",
        "print('Original corpus deviation: ' + str(non_shuffled_conf))\n",
        "\n",
        "# Resultados con shuffle \n",
        "kf = KFold(n_splits=10, shuffle=True)\n",
        "a =kf.get_n_splits(c)\n",
        "\n",
        "shuffled_results =[]\n",
        "shuffled_conf = []\n",
        "for train_index, test_index in kf.split(c):\n",
        "\n",
        "    train = c[train_index]\n",
        "    test = c[test_index]\n",
        "    tagger_tnt = tnt.TnT()\n",
        "    tagger_tnt.train(train)\n",
        "    ac = tagger_tnt.evaluate(test)\n",
        "    shuffled_results.append(ac)\n",
        "    ic = 1.96*math.sqrt((ac* (1-ac))/number_test_sentences)\n",
        "    shuffled_conf.append(ic)\n",
        "\n",
        "print('Shuffled corpus accuracy: ' + str(shuffled_results))\n",
        "print('Shuffled corpus deviation: ' + str(shuffled_conf))\n",
        "\n",
        "# Print graphic for original results\n",
        "x=[i for i in range(10)]\n",
        "y=non_shuffled_results\n",
        "plt.axis([-1, 10, 0.84, 0.95])\n",
        "plt.ylabel('Accuracy')\n",
        "plt.xlabel('Fold')\n",
        "plt.title('Ten-fold cross validation original corpus')\n",
        "plt.plot(x,y,'ro')\n",
        "plt.errorbar(x,y,yerr=non_shuffled_conf,linestyle='None')\n",
        "plt.show()\n",
        "\n",
        "# Print graphic for shuffled results\n",
        "x=[i for i in range(10)]\n",
        "y=shuffled_results\n",
        "plt.axis([-1, 10, 0.84, 0.95])\n",
        "plt.ylabel('Accuracy')\n",
        "plt.xlabel('Fold')\n",
        "plt.title('Ten-fold cross validation original corpus')\n",
        "plt.plot(x,y,'ro')\n",
        "plt.errorbar(x,y,yerr=shuffled_conf,linestyle='None')\n",
        "plt.show()"
      ],
      "execution_count": 15,
      "outputs": [
        {
          "output_type": "stream",
          "name": "stdout",
          "text": [
            "Original corpus accuracy: [0.8963203270820371, 0.8886019751744133, 0.8864864864864865, 0.88949564908542, 0.8928287906853665, 0.8389584706657878, 0.8583445253410618, 0.8506627393225331, 0.8591370558375635, 0.8255173440524044]\n",
            "Original corpus deviation: [0.02433189016196915, 0.025112491206031224, 0.025319624362368197, 0.02502413177278914, 0.024689970674732113, 0.02933841111855451, 0.027832032178867174, 0.028448554921733562, 0.02776687604508008, 0.030292606824607833]\n",
            "Shuffled corpus accuracy: [0.9042602874785948, 0.9039974484371678, 0.901972096926466, 0.9013206944296517, 0.9011183355006502, 0.9017132551848512, 0.9001820713291206, 0.9015612595924848, 0.9009600529684396, 0.8992933786966762]\n",
            "Shuffled corpus deviation: [0.02348498050316083, 0.023513777565944128, 0.023733884410583963, 0.02380401026649578, 0.023825729827115383, 0.02376178806957157, 0.023925822227908046, 0.0237781498742094, 0.02384269716911937, 0.024020228034278456]\n"
          ]
        },
        {
          "output_type": "display_data",
          "data": {
            "image/png": "[encoded data removed]",
            "text/plain": [
              "<Figure size 432x288 with 1 Axes>"
            ]
          },
          "metadata": {
            "needs_background": "light"
          }
        },
        {
          "output_type": "display_data",
          "data": {
            "image/png": "[encoded data removed]",
            "text/plain": [
              "<Figure size 432x288 with 1 Axes>"
            ]
          },
          "metadata": {
            "needs_background": "light"
          }
        }
      ]
    }
  ]
}