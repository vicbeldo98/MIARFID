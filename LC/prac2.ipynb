{
 "cells": [
  {
   "cell_type": "code",
   "execution_count": 45,
   "source": [
    "#carga del corpus                         \n",
    "import nltk\n",
    "from nltk.corpus import cess_esp\n",
    "corpus_sentences=cess_esp.tagged_sents()\n",
    "number_sentences=len(corpus_sentences)\n",
    "print ('number sentences:',number_sentences)\n",
    "print ('number words:',end=\" \")\n",
    "nw=0\n",
    "for s in range (len(corpus_sentences)):\n",
    "   nw=nw+len(corpus_sentences[s])\n",
    "print (nw)\n",
    "print (corpus_sentences[0:2])"
   ],
   "outputs": [
    {
     "output_type": "stream",
     "name": "stdout",
     "text": [
      "number sentences: 6030\n",
      "number words: 192686\n",
      "[[('El', 'da0ms0'), ('grupo', 'ncms000'), ('estatal', 'aq0cs0'), ('Electricité_de_France', 'np00000'), ('-Fpa-', 'Fpa'), ('EDF', 'np00000'), ('-Fpt-', 'Fpt'), ('anunció', 'vmis3s0'), ('hoy', 'rg'), (',', 'Fc'), ('jueves', 'W'), (',', 'Fc'), ('la', 'da0fs0'), ('compra', 'ncfs000'), ('del', 'spcms'), ('51_por_ciento', 'Zp'), ('de', 'sps00'), ('la', 'da0fs0'), ('empresa', 'ncfs000'), ('mexicana', 'aq0fs0'), ('Electricidad_Águila_de_Altamira', 'np00000'), ('-Fpa-', 'Fpa'), ('EAA', 'np00000'), ('-Fpt-', 'Fpt'), (',', 'Fc'), ('creada', 'aq0fsp'), ('por', 'sps00'), ('el', 'da0ms0'), ('japonés', 'aq0ms0'), ('Mitsubishi_Corporation', 'np00000'), ('para', 'sps00'), ('poner_en_marcha', 'vmn0000'), ('una', 'di0fs0'), ('central', 'ncfs000'), ('de', 'sps00'), ('gas', 'ncms000'), ('de', 'sps00'), ('495', 'Z'), ('megavatios', 'ncmp000'), ('.', 'Fp')], [('Una', 'di0fs0'), ('portavoz', 'nccs000'), ('de', 'sps00'), ('EDF', 'np00000'), ('explicó', 'vmis3s0'), ('a', 'sps00'), ('EFE', 'np00000'), ('que', 'cs'), ('el', 'da0ms0'), ('proyecto', 'ncms000'), ('para', 'sps00'), ('la', 'da0fs0'), ('construcción', 'ncfs000'), ('de', 'sps00'), ('Altamira_2', 'np00000'), (',', 'Fc'), ('al', 'spcms'), ('norte', 'ncms000'), ('de', 'sps00'), ('Tampico', 'np00000'), (',', 'Fc'), ('prevé', 'vmm02s0'), ('la', 'da0fs0'), ('utilización', 'ncfs000'), ('de', 'sps00'), ('gas', 'ncms000'), ('natural', 'aq0cs0'), ('como', 'cs'), ('combustible', 'ncms000'), ('principal', 'aq0cs0'), ('en', 'sps00'), ('una', 'di0fs0'), ('central', 'ncfs000'), ('de', 'sps00'), ('ciclo', 'ncms000'), ('combinado', 'aq0msp'), ('que', 'pr0cn000'), ('debe', 'vmip3s0'), ('empezar', 'vmn0000'), ('a', 'sps00'), ('funcionar', 'vmn0000'), ('en', 'sps00'), ('mayo_del_2002', 'W'), ('.', 'Fp')]]\n"
     ]
    }
   ],
   "metadata": {
    "scrolled": true
   }
  },
  {
   "cell_type": "code",
   "execution_count": 46,
   "source": [
    "# Escribir el corpus en un fichero, preprocesando sus etiquetas\n",
    "corpus = []\n",
    "for s in (corpus_sentences):\n",
    "    sentence=[]\n",
    "    for x in s:\n",
    "        word, tag = x\n",
    "        if(word=='*0*' and tag.startswith('sn')):\n",
    "            continue\n",
    "        if(len(tag) >= 3):\n",
    "            if(tag.startswith('v') or tag.startswith('F')):\n",
    "                tag = tag[0:3]\n",
    "            else:\n",
    "                tag = tag[0:2]\n",
    "        x = (word, tag)\n",
    "        sentence.append(x)\n",
    "    corpus.append(sentence)    \n"
   ],
   "outputs": [],
   "metadata": {}
  },
  {
   "cell_type": "code",
   "execution_count": 47,
   "source": [
    "import nltk\n",
    "frase=\"El jardinero era muy simpático\"\n",
    "tokens=nltk.word_tokenize(frase,language='spanish')\n",
    "print (tokens)"
   ],
   "outputs": [
    {
     "output_type": "stream",
     "name": "stdout",
     "text": [
      "['El', 'jardinero', 'era', 'muy', 'simpático']\n"
     ]
    }
   ],
   "metadata": {}
  },
  {
   "cell_type": "code",
   "execution_count": 48,
   "source": [
    "print (dir(nltk))\n",
    "help (nltk.word_tokenize)"
   ],
   "outputs": [
    {
     "output_type": "stream",
     "name": "stdout",
     "text": [
      "['AbstractLazySequence', 'AffixTagger', 'AlignedSent', 'Alignment', 'AnnotationTask', 'ApplicationExpression', 'Assignment', 'BigramAssocMeasures', 'BigramCollocationFinder', 'BigramTagger', 'BinaryMaxentFeatureEncoding', 'BlanklineTokenizer', 'BllipParser', 'BottomUpChartParser', 'BottomUpLeftCornerChartParser', 'BottomUpProbabilisticChartParser', 'Boxer', 'BrillTagger', 'BrillTaggerTrainer', 'CFG', 'CRFTagger', 'CfgReadingCommand', 'ChartParser', 'ChunkParserI', 'ChunkScore', 'Cistem', 'ClassifierBasedPOSTagger', 'ClassifierBasedTagger', 'ClassifierI', 'ConcordanceIndex', 'ConditionalExponentialClassifier', 'ConditionalFreqDist', 'ConditionalProbDist', 'ConditionalProbDistI', 'ConfusionMatrix', 'ContextIndex', 'ContextTagger', 'ContingencyMeasures', 'CoreNLPDependencyParser', 'CoreNLPParser', 'Counter', 'CrossValidationProbDist', 'DRS', 'DecisionTreeClassifier', 'DefaultTagger', 'DependencyEvaluator', 'DependencyGrammar', 'DependencyGraph', 'DependencyProduction', 'DictionaryConditionalProbDist', 'DictionaryProbDist', 'DiscourseTester', 'DrtExpression', 'DrtGlueReadingCommand', 'ELEProbDist', 'EarleyChartParser', 'Expression', 'FStructure', 'FeatDict', 'FeatList', 'FeatStruct', 'FeatStructReader', 'Feature', 'FeatureBottomUpChartParser', 'FeatureBottomUpLeftCornerChartParser', 'FeatureChartParser', 'FeatureEarleyChartParser', 'FeatureIncrementalBottomUpChartParser', 'FeatureIncrementalBottomUpLeftCornerChartParser', 'FeatureIncrementalChartParser', 'FeatureIncrementalTopDownChartParser', 'FeatureTopDownChartParser', 'FreqDist', 'HTTPPasswordMgrWithDefaultRealm', 'HeldoutProbDist', 'HiddenMarkovModelTagger', 'HiddenMarkovModelTrainer', 'HunposTagger', 'IBMModel', 'IBMModel1', 'IBMModel2', 'IBMModel3', 'IBMModel4', 'IBMModel5', 'ISRIStemmer', 'ImmutableMultiParentedTree', 'ImmutableParentedTree', 'ImmutableProbabilisticMixIn', 'ImmutableProbabilisticTree', 'ImmutableTree', 'IncrementalBottomUpChartParser', 'IncrementalBottomUpLeftCornerChartParser', 'IncrementalChartParser', 'IncrementalLeftCornerChartParser', 'IncrementalTopDownChartParser', 'Index', 'InsideChartParser', 'JSONTaggedDecoder', 'JSONTaggedEncoder', 'KneserNeyProbDist', 'LancasterStemmer', 'LaplaceProbDist', 'LazyConcatenation', 'LazyEnumerate', 'LazyIteratorList', 'LazyMap', 'LazySubsequence', 'LazyZip', 'LeftCornerChartParser', 'LegalitySyllableTokenizer', 'LidstoneProbDist', 'LineTokenizer', 'LogicalExpressionException', 'LongestChartParser', 'MLEProbDist', 'MWETokenizer', 'Mace', 'MaceCommand', 'MaltParser', 'MaxentClassifier', 'Model', 'MultiClassifierI', 'MultiParentedTree', 'MutableProbDist', 'NLTKWordTokenizer', 'NaiveBayesClassifier', 'NaiveBayesDependencyScorer', 'NgramAssocMeasures', 'NgramTagger', 'NonprojectiveDependencyParser', 'Nonterminal', 'OrderedDict', 'PCFG', 'Paice', 'ParallelProverBuilder', 'ParallelProverBuilderCommand', 'ParentedTree', 'ParserI', 'PerceptronTagger', 'PhraseTable', 'PorterStemmer', 'PositiveNaiveBayesClassifier', 'ProbDistI', 'ProbabilisticDependencyGrammar', 'ProbabilisticMixIn', 'ProbabilisticNonprojectiveParser', 'ProbabilisticProduction', 'ProbabilisticProjectiveDependencyParser', 'ProbabilisticTree', 'Production', 'ProjectiveDependencyParser', 'Prover9', 'Prover9Command', 'ProxyBasicAuthHandler', 'ProxyDigestAuthHandler', 'ProxyHandler', 'PunktSentenceTokenizer', 'QuadgramAssocMeasures', 'QuadgramCollocationFinder', 'RSLPStemmer', 'RTEFeatureExtractor', 'RUS_PICKLE', 'RandomChartParser', 'RangeFeature', 'ReadingCommand', 'RecursiveDescentParser', 'RegexpChunkParser', 'RegexpParser', 'RegexpStemmer', 'RegexpTagger', 'RegexpTokenizer', 'ReppTokenizer', 'ResolutionProver', 'ResolutionProverCommand', 'SExprTokenizer', 'SLASH', 'Senna', 'SennaChunkTagger', 'SennaNERTagger', 'SennaTagger', 'SequentialBackoffTagger', 'ShiftReduceParser', 'SimpleGoodTuringProbDist', 'SklearnClassifier', 'SlashFeature', 'SnowballStemmer', 'SpaceTokenizer', 'StackDecoder', 'StanfordNERTagger', 'StanfordPOSTagger', 'StanfordSegmenter', 'StanfordTagger', 'StemmerI', 'SteppingChartParser', 'SteppingRecursiveDescentParser', 'SteppingShiftReduceParser', 'SyllableTokenizer', 'TYPE', 'TabTokenizer', 'TableauProver', 'TableauProverCommand', 'TaggerI', 'TestGrammar', 'Text', 'TextCat', 'TextCollection', 'TextTilingTokenizer', 'TnT', 'TokenSearcher', 'ToktokTokenizer', 'TopDownChartParser', 'TransitionParser', 'Tree', 'TreebankWordTokenizer', 'Trie', 'TrigramAssocMeasures', 'TrigramCollocationFinder', 'TrigramTagger', 'TweetTokenizer', 'TypedMaxentFeatureEncoding', 'Undefined', 'UniformProbDist', 'UnigramTagger', 'UnsortedChartParser', 'Valuation', 'Variable', 'ViterbiParser', 'WekaClassifier', 'WhitespaceTokenizer', 'WittenBellProbDist', 'WordNetLemmatizer', 'WordPunctTokenizer', '__author__', '__author_email__', '__builtins__', '__cached__', '__classifiers__', '__copyright__', '__doc__', '__file__', '__keywords__', '__license__', '__loader__', '__longdescr__', '__maintainer__', '__maintainer_email__', '__name__', '__package__', '__path__', '__spec__', '__url__', '__version__', 'accuracy', 'acyclic_branches_depth_first', 'acyclic_breadth_first', 'acyclic_depth_first', 'acyclic_dic2tree', 'add_logs', 'agreement', 'align', 'alignment_error_rate', 'aline', 'api', 'app', 'apply_features', 'approxrand', 'arity', 'association', 'bigrams', 'binary_distance', 'binary_search_file', 'binding_ops', 'bisect', 'blankline_tokenize', 'bleu', 'bleu_score', 'bllip', 'boolean_ops', 'boxer', 'bracket_parse', 'breadth_first', 'brill', 'brill_trainer', 'build_opener', 'call_megam', 'casual', 'casual_tokenize', 'ccg', 'chain', 'chart', 'chat', 'choose', 'chrf', 'chrf_score', 'chunk', 'cistem', 'classify', 'clause', 'clean_html', 'clean_url', 'cluster', 'collections', 'collocations', 'combinations', 'compat', 'config_java', 'config_megam', 'config_weka', 'conflicts', 'confusionmatrix', 'conllstr2tree', 'conlltags2tree', 'corenlp', 'corpus', 'crf', 'custom_distance', 'data', 'decisiontree', 'decorator', 'decorators', 'defaultdict', 'demo', 'dependencygraph', 'deque', 'destructive', 'discourse', 'distance', 'download', 'download_shell', 'downloader', 'draw', 'drt', 'earleychart', 'edit_distance', 'edit_distance_align', 'elementtree_indent', 'entropy', 'equality_preds', 'evaluate', 'evaluate_sents', 'everygrams', 'extract', 'extract_rels', 'extract_test_sentences', 'f_measure', 'featstruct', 'featurechart', 'filestring', 'find', 'flatten', 'fractional_presence', 'gale_church', 'gdfa', 'getproxies', 'ghd', 'gleu', 'gleu_score', 'glue', 'grammar', 'grow_diag_final_and', 'guess_encoding', 'help', 'hmm', 'hunpos', 'ibm1', 'ibm2', 'ibm3', 'ibm4', 'ibm5', 'ibm_model', 'ieerstr2tree', 'in_idle', 'induce_pcfg', 'inference', 'infile', 'inspect', 'install_opener', 'internals', 'interpret_sents', 'interval_distance', 'invert_dict', 'invert_graph', 'is_rel', 'islice', 'isri', 'jaccard_distance', 'json_tags', 'jsontags', 'lancaster', 'lazyimport', 'legality_principle', 'lfg', 'line_tokenize', 'linearlogic', 'lm', 'load', 'load_parser', 'locale', 'log_likelihood', 'logic', 'mace', 'malt', 'map_tag', 'mapping', 'masi_distance', 'maxent', 'megam', 'memoize', 'meteor', 'meteor_score', 'metrics', 'misc', 'mwe', 'naivebayes', 'ne_chunk', 'ne_chunk_sents', 'ngrams', 'nist', 'nist_score', 'nonprojectivedependencyparser', 'nonterminals', 'numpy', 'os', 'pad_sequence', 'paice', 'pairwise', 'parallelize_preprocess', 'parse', 'parse_sents', 'pchart', 'perceptron', 'phrase_based', 'pk', 'porter', 'pos_tag', 'pos_tag_sents', 'positivenaivebayes', 'pprint', 'pr', 'precision', 'presence', 'print_string', 'probability', 'projectivedependencyparser', 'prover9', 'punkt', 'py25', 'pydoc', 'raise_unorderable_types', 'ranks_from_scores', 'ranks_from_sequence', 're', 're_show', 'read_grammar', 'read_logic', 'read_valuation', 'recall', 'recursivedescent', 'regexp', 'regexp_span_tokenize', 'regexp_tokenize', 'register_tag', 'relextract', 'repp', 'resolution', 'ribes', 'ribes_score', 'root_semrep', 'rslp', 'rte_classifier', 'rte_classify', 'rte_features', 'rtuple', 'scikitlearn', 'scores', 'segmentation', 'sem', 'senna', 'sent_tokenize', 'sequential', 'set2rel', 'set_proxy', 'sexpr', 'sexpr_tokenize', 'shiftreduce', 'simple', 'sinica_parse', 'skipgrams', 'skolemize', 'slice_bounds', 'snowball', 'sonority_sequencing', 'spearman', 'spearman_correlation', 'stack_decoder', 'stanford', 'stanford_segmenter', 'stem', 'str2tuple', 'string_span_tokenize', 'subprocess', 'subsumes', 'sum_logs', 'sys', 'tableau', 'tadm', 'tag', 'tagset_mapping', 'tagstr2tree', 'tbl', 'tee', 'text', 'textcat', 'texttiling', 'textwrap', 'tnt', 'tokenize', 'tokenwrap', 'toktok', 'toolbox', 'total_ordering', 'trace', 'transitionparser', 'transitive_closure', 'translate', 'tree', 'tree2conllstr', 'tree2conlltags', 'treebank', 'treetransforms', 'trigrams', 'tuple2str', 'types', 'unify', 'unique_list', 'untag', 'unweighted_minimum_spanning_tree', 'usage', 'util', 'version_file', 'version_info', 'viterbi', 'warnings', 'weka', 'windowdiff', 'word_tokenize', 'wordnet', 'wordpunct_tokenize', 'wsd']\n",
      "Help on function word_tokenize in module nltk.tokenize:\n",
      "\n",
      "word_tokenize(text, language='english', preserve_line=False)\n",
      "    Return a tokenized copy of *text*,\n",
      "    using NLTK's recommended word tokenizer\n",
      "    (currently an improved :class:`.TreebankWordTokenizer`\n",
      "    along with :class:`.PunktSentenceTokenizer`\n",
      "    for the specified language).\n",
      "    \n",
      "    :param text: text to split into words\n",
      "    :type text: str\n",
      "    :param language: the model name in the Punkt corpus\n",
      "    :type language: str\n",
      "    :param preserve_line: An option to keep the preserve the sentence and not sentence tokenize it.\n",
      "    :type preserve_line: bool\n",
      "\n"
     ]
    }
   ],
   "metadata": {}
  },
  {
   "cell_type": "code",
   "execution_count": 49,
   "source": [
    "# Partir el corpus en train y test\n",
    "number_sentences = len(corpus)\n",
    "number_train_sentences = round(number_sentences*0.9)\n",
    "number_test_sentences = number_sentences - number_train_sentences\n",
    "\n",
    "from nltk.tag import hmm\n",
    "from sklearn.model_selection import KFold\n",
    "import numpy as np\n",
    "\n",
    "c = np.array(corpus, dtype=object)\n",
    "\n",
    "# Ten-fold cross-validation\n",
    "# Resultados con shuffle \n",
    "kf = KFold(n_splits=10, shuffle=True)\n",
    "a =kf.get_n_splits(c)\n",
    "\n",
    "shuffled_results =[]\n",
    "for train_index, test_index in kf.split(c):\n",
    "\n",
    "    train = c[train_index]\n",
    "    test = c[test_index]\n",
    "    tagger_hmm=hmm.HiddenMarkovModelTagger.train(train)\n",
    "    shuffled_results.append(tagger_hmm.evaluate(test))\n",
    "\n",
    "print(shuffled_results)\n",
    "\n",
    "shuffle_mean = np.average(shuffled_results)\n",
    "\n",
    "\n",
    "# Resultados sin shuffle \n",
    "kf = KFold(n_splits=10, shuffle=False)\n",
    "a =kf.get_n_splits(c)\n",
    "\n",
    "non_shuffled_results =[]\n",
    "# Ten-fold cross-validation\n",
    "for train_index, test_index in kf.split(c):\n",
    "\n",
    "    train = c[train_index]\n",
    "    test = c[test_index]\n",
    "    tagger_hmm=hmm.HiddenMarkovModelTagger.train(train)\n",
    "    non_shuffled_results.append(tagger_hmm.evaluate(test))\n",
    "\n",
    "print(non_shuffled_results)"
   ],
   "outputs": [
    {
     "output_type": "stream",
     "name": "stderr",
     "text": [
      "/tmp/ipykernel_4487/1657981773.py:11: VisibleDeprecationWarning: Creating an ndarray from ragged nested sequences (which is a list-or-tuple of lists-or-tuples-or ndarrays with different lengths or shapes) is deprecated. If you meant to do this, you must specify 'dtype=object' when creating the ndarray\n",
      "  c = np.array(corpus)\n"
     ]
    },
    {
     "output_type": "stream",
     "name": "stdout",
     "text": [
      "[0.9267420766193576, 0.9291215597565573, 0.9290270704904852, 0.924272537328645, 0.9265452214327689, 0.928040233267348, 0.9227244324099146, 0.9238549418299968, 0.9225542757046552, 0.9242010599004336]\n",
      "[0.9283174828904097, 0.9237111533931321, 0.9228301472203911, 0.9251465103889185, 0.9228631913204551, 0.8781806196440343, 0.887891425743974, 0.8913107511045656, 0.8911650954798163, 0.8784427571832664]\n"
     ]
    }
   ],
   "metadata": {}
  },
  {
   "cell_type": "code",
   "execution_count": 9,
   "source": [
    "results=[0.9256429844665138, 0.9214948172394981, 0.9216290588882774, 0.928065164498043, 0.9257994411673394, 0.9238618939353883, 0.9288537549407114, 0.9258638743455497, 0.9235440097154021, 0.9276003625313216]\n",
    "ic=[0.003669639066614048, 0.0038937714086913293, 0.003907817005645873, 0.003683113544930908, 0.0036952781066653846, 0.0037799009714016268, 0.0036823885662779355, 0.0037155909831457644, 0.003784531340824055, 0.003708711344693261]\n",
    "import matplotlib.pyplot as plt\n",
    "x=[i for i in range(10)]\n",
    "y=results\n",
    "plt.axis([-1, 10, 0.84, 0.95])\n",
    "plt.ylabel('Accuracy')\n",
    "plt.xlabel('Fold')\n",
    "plt.title('Ten-fold cross validation')\n",
    "plt.plot(x,y,'ro')\n",
    "plt.errorbar(x,y,yerr=ic,linestyle='None')\n",
    "plt.show()"
   ],
   "outputs": [
    {
     "output_type": "display_data",
     "data": {
      "image/png": "[encoded data removed]",
      "text/plain": [
       "<Figure size 432x288 with 1 Axes>"
      ]
     },
     "metadata": {
      "needs_background": "light"
     }
    }
   ],
   "metadata": {}
  },
  {
   "cell_type": "code",
   "execution_count": null,
   "source": [],
   "outputs": [],
   "metadata": {}
  }
 ],
 "metadata": {
  "kernelspec": {
   "name": "python3",
   "display_name": "Python 3.8.10 64-bit"
  },
  "language_info": {
   "codemirror_mode": {
    "name": "ipython",
    "version": 3
   },
   "file_extension": ".py",
   "mimetype": "text/x-python",
   "name": "python",
   "nbconvert_exporter": "python",
   "pygments_lexer": "ipython3",
   "version": "3.8.10"
  },
  "interpreter": {
   "hash": "31f2aee4e71d21fbe5cf8b01ff0e069b9275f58929596ceb00d14d90e3e16cd6"
  }
 },
 "nbformat": 4,
 "nbformat_minor": 1
}